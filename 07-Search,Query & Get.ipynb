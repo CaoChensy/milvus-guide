{
 "cells": [
  {
   "cell_type": "markdown",
   "id": "10deed43",
   "metadata": {
    "heading_collapsed": true
   },
   "source": [
    "# 单向量搜索"
   ]
  },
  {
   "cell_type": "markdown",
   "id": "e0e9c665",
   "metadata": {
    "hidden": true
   },
   "source": [
    "一旦你插入了你的数据，下一步就是在Milvus中对你的收藏进行相似性搜索。\n",
    "\n",
    "Milvus允许您进行两种类型的搜索，具体取决于集合中向量场的数量：\n",
    "\n",
    "- 单向量搜索：如果你的集合只有一个向量字段，使用[`search()`](https://milvus.io/api-reference/pymilvus/v2.4.x/MilvusClient/Vector/search.md)方法来查找最相似的实体。此方法将您的查询向量与集合中的现有向量进行比较，并返回最接近匹配项的ID（沿着）以及它们之间的距离。可选地，它还可以返回结果的向量值和元数据。\n",
    "- 多向量搜索：对于具有两个或更多向量字段的集合，请使用`hybrid_search()`方法。此方法执行多个近似最近邻（ANN）搜索请求，并在重新排序后组合结果以返回最相关的匹配。\n",
    "\n",
    "本指南重点介绍如何在Milvus中执行单向量搜索。有关多向量搜索的详细信息，请参阅[混合搜索](https://milvus.io/docs/multi-vector-search.md)。\n"
   ]
  },
  {
   "cell_type": "markdown",
   "id": "ce3a8fb4",
   "metadata": {
    "hidden": true
   },
   "source": [
    "## 概述"
   ]
  },
  {
   "cell_type": "markdown",
   "id": "d4589154",
   "metadata": {
    "hidden": true
   },
   "source": [
    "\n",
    "有多种搜索类型可满足不同的要求：\n",
    "\n",
    "- [基本搜索：包括单向量搜索、批量向量搜索、分区搜索和指定输出字段的搜索。](https://milvus.io/docs/single-vector-search.md#Basic-search)\n",
    "- [过滤搜索](https://milvus.io/docs/single-vector-search.md#Filtered-search)：根据标量字段设置过滤条件，以优化搜索结果。\n",
    "- [范围搜索](https://milvus.io/docs/single-vector-search.md#Range-search)：查找距离查询向量特定距离范围内的向量。\n",
    "- [分类搜索：根据特定字段对搜索结果进行分组，以确保结果的多样性。](https://milvus.io/docs/single-vector-search.md#Grouping-search)\n",
    "\n",
    "此页面上的代码片段使用新[的MilvusClient](https://milvus.io/api-reference/pymilvus/v2.4.x/About.md)（Python）与Milvus交互。其他语言的新MilvusClient SDK将在未来的更新中发布。\n"
   ]
  },
  {
   "cell_type": "markdown",
   "id": "c4172d48",
   "metadata": {
    "heading_collapsed": true,
    "hidden": true
   },
   "source": [
    "## 筹备工作"
   ]
  },
  {
   "cell_type": "markdown",
   "id": "98429dc9",
   "metadata": {
    "hidden": true
   },
   "source": [
    "\n",
    "下面的代码片段重新使用现有代码来建立与Milvus的连接并快速设置集合。"
   ]
  },
  {
   "cell_type": "code",
   "execution_count": 4,
   "id": "17ff136a",
   "metadata": {
    "hidden": true
   },
   "outputs": [],
   "source": [
    "import random\n",
    "from pymilvus import MilvusClient\n",
    "\n",
    "# 1. Set up a Milvus client\n",
    "client = MilvusClient(\n",
    "    uri=\"http://localhost:19530\"\n",
    ")\n",
    "\n",
    "if client.has_collection(\"quick_setup\"):\n",
    "    client.drop_collection(\"quick_setup\")\n",
    "\n",
    "# 2. Create a collection\n",
    "client.create_collection(\n",
    "    collection_name=\"quick_setup\",\n",
    "    dimension=5,\n",
    "    metric_type=\"IP\"\n",
    ")\n",
    "    \n",
    "# 2. Insert randomly generated vectors \n",
    "colors = [\"green\", \"blue\", \"yellow\", \"red\", \"black\", \"white\", \"purple\", \"pink\", \"orange\", \"brown\", \"grey\"]\n",
    "data = [ {\"id\": i, \"vector\": [ random.uniform(-1, 1) for _ in range(5) ], \"color\": f\"{random.choice(colors)}_{str(random.randint(1000, 9999))}\" } for i in range(1000) ]\n",
    "\n",
    "res = client.insert(\n",
    "    collection_name=\"quick_setup\",\n",
    "    data=data\n",
    ")\n",
    "\n",
    "# print(res)"
   ]
  },
  {
   "cell_type": "markdown",
   "id": "ee2fcceb",
   "metadata": {
    "heading_collapsed": true,
    "hidden": true
   },
   "source": [
    "## 基本搜索"
   ]
  },
  {
   "cell_type": "markdown",
   "id": "636f7dcb",
   "metadata": {
    "hidden": true
   },
   "source": [
    "当发送`search`请求时，您可以提供一个或多个表示查询嵌入的向量值和一个指示返回结果数量的`limit`值。\n",
    "\n",
    "根据您的数据和查询向量，您可能会得到少于`limit`的结果。当`limit`大于查询的可能匹配向量数时，就会发生这种情况。\n"
   ]
  },
  {
   "cell_type": "markdown",
   "id": "2ebcebdd",
   "metadata": {
    "hidden": true
   },
   "source": [
    "### 单向量搜索"
   ]
  },
  {
   "cell_type": "markdown",
   "id": "8d28619d",
   "metadata": {
    "hidden": true
   },
   "source": [
    "\n",
    "单向量搜索是Milvus中`search`操作的最简单形式，旨在查找与给定查询向量最相似的向量。\n",
    "\n",
    "要执行单向量搜索，请指定目标集合名称、查询向量和所需的结果数（`limit`）。此操作返回一个结果集，其中包括最相似的向量、它们的ID以及与查询向量的距离。\n",
    "\n",
    "以下是搜索与查询向量最相似的前5个实体的示例："
   ]
  },
  {
   "cell_type": "code",
   "execution_count": 6,
   "id": "4be4bc7e",
   "metadata": {
    "hidden": true
   },
   "outputs": [
    {
     "name": "stdout",
     "output_type": "stream",
     "text": [
      "[\n",
      "    [\n",
      "        {\n",
      "            \"id\": 572,\n",
      "            \"distance\": 1.870904803276062,\n",
      "            \"entity\": {}\n",
      "        },\n",
      "        {\n",
      "            \"id\": 894,\n",
      "            \"distance\": 1.842880129814148,\n",
      "            \"entity\": {}\n",
      "        },\n",
      "        {\n",
      "            \"id\": 751,\n",
      "            \"distance\": 1.6808228492736816,\n",
      "            \"entity\": {}\n",
      "        },\n",
      "        {\n",
      "            \"id\": 673,\n",
      "            \"distance\": 1.6371359825134277,\n",
      "            \"entity\": {}\n",
      "        },\n",
      "        {\n",
      "            \"id\": 364,\n",
      "            \"distance\": 1.6252869367599487,\n",
      "            \"entity\": {}\n",
      "        }\n",
      "    ]\n",
      "]\n"
     ]
    }
   ],
   "source": [
    "# Single vector search\n",
    "res = client.search(\n",
    "    collection_name=\"quick_setup\", # Replace with the actual name of your collection\n",
    "    # Replace with your query vector\n",
    "    data=[[0.3580376395471989, -0.6023495712049978, 0.18414012509913835, -0.26286205330961354, 0.9029438446296592]],\n",
    "    limit=5, # Max. number of search results to return\n",
    "    search_params={\"metric_type\": \"IP\", \"params\": {}} # Search parameters\n",
    ")\n",
    "\n",
    "# Convert the output to a formatted JSON string\n",
    "result = json.dumps(res, indent=4)\n",
    "print(result)"
   ]
  },
  {
   "cell_type": "markdown",
   "id": "1cc042a6",
   "metadata": {
    "hidden": true
   },
   "source": [
    "输出类似于以下内容：\n",
    "\n",
    "\n",
    "```python\n",
    "[\n",
    "    [\n",
    "        {\n",
    "            \"id\": 0,\n",
    "            \"distance\": 1.4093276262283325,\n",
    "            \"entity\": {}\n",
    "        },\n",
    "        {\n",
    "            \"id\": 4,\n",
    "            \"distance\": 0.9902134537696838,\n",
    "            \"entity\": {}\n",
    "        },\n",
    "        {\n",
    "            \"id\": 1,\n",
    "            \"distance\": 0.8519943356513977,\n",
    "            \"entity\": {}\n",
    "        },\n",
    "        {\n",
    "            \"id\": 5,\n",
    "            \"distance\": 0.7972343564033508,\n",
    "            \"entity\": {}\n",
    "        },\n",
    "        {\n",
    "            \"id\": 2,\n",
    "            \"distance\": 0.5928734540939331,\n",
    "            \"entity\": {}\n",
    "        }\n",
    "    ]\n",
    "]\n",
    "```"
   ]
  },
  {
   "cell_type": "markdown",
   "id": "e29987bd",
   "metadata": {
    "hidden": true
   },
   "source": [
    "输出显示了与查询向量最近的前5个邻居，包括它们的唯一ID和计算的距离。"
   ]
  },
  {
   "cell_type": "markdown",
   "id": "a9c8d717",
   "metadata": {
    "hidden": true
   },
   "source": [
    "### 多向量搜索"
   ]
  },
  {
   "cell_type": "markdown",
   "id": "372c7d27",
   "metadata": {
    "hidden": true
   },
   "source": [
    "\n",
    "批量向量搜索扩展了[单向量搜索的](https://milvus.io/docs/single-vector-search.md#Single-Vector-Search)概念，允许在单个请求中搜索多个查询向量。这种类型的搜索非常适合需要为一组查询向量找到相似向量的场景，从而显著减少所需的时间和计算资源。\n",
    "\n",
    "在批量向量搜索中，您可以在`data`字段中包含多个查询向量。系统并行处理这些向量，为每个查询向量返回一个单独的结果集，每个集包含在集合中找到的最接近的匹配。\n",
    "\n",
    "下面是一个从两个查询向量中搜索两组不同的最相似实体的例子："
   ]
  },
  {
   "cell_type": "code",
   "execution_count": 8,
   "id": "7fa68241",
   "metadata": {
    "hidden": true
   },
   "outputs": [
    {
     "name": "stdout",
     "output_type": "stream",
     "text": [
      "[\n",
      "    [\n",
      "        {\n",
      "            \"id\": 738,\n",
      "            \"distance\": 1.678102731704712,\n",
      "            \"entity\": {}\n",
      "        },\n",
      "        {\n",
      "            \"id\": 48,\n",
      "            \"distance\": 1.6663272380828857,\n",
      "            \"entity\": {}\n",
      "        }\n",
      "    ],\n",
      "    [\n",
      "        {\n",
      "            \"id\": 462,\n",
      "            \"distance\": 2.5402042865753174,\n",
      "            \"entity\": {}\n",
      "        },\n",
      "        {\n",
      "            \"id\": 782,\n",
      "            \"distance\": 2.4869089126586914,\n",
      "            \"entity\": {}\n",
      "        }\n",
      "    ]\n",
      "]\n"
     ]
    }
   ],
   "source": [
    "# Bulk-vector search\n",
    "res = client.search(\n",
    "    collection_name=\"quick_setup\", # Replace with the actual name of your collection\n",
    "    data=[\n",
    "        [0.19886812562848388, 0.06023560599112088, 0.6976963061752597, 0.2614474506242501, 0.838729485096104],\n",
    "        [0.3172005263489739, 0.9719044792798428, -0.36981146090600725, -0.4860894583077995, 0.95791889146345]\n",
    "    ], # Replace with your query vectors\n",
    "    limit=2, # Max. number of search results to return\n",
    "    search_params={\"metric_type\": \"IP\", \"params\": {}} # Search parameters\n",
    ")\n",
    "\n",
    "result = json.dumps(res, indent=4)\n",
    "print(result)"
   ]
  },
  {
   "cell_type": "markdown",
   "id": "8dcd8ec6",
   "metadata": {
    "hidden": true
   },
   "source": [
    "\n",
    "输出类似于以下内容：\n",
    "\n",
    "```python\n",
    "[\n",
    "    [\n",
    "        {\n",
    "            \"id\": 1,\n",
    "            \"distance\": 1.3017789125442505,\n",
    "            \"entity\": {}\n",
    "        },\n",
    "        {\n",
    "            \"id\": 7,\n",
    "            \"distance\": 1.2419954538345337,\n",
    "            \"entity\": {}\n",
    "        }\n",
    "    ], # Result set 1\n",
    "    [\n",
    "        {\n",
    "            \"id\": 3,\n",
    "            \"distance\": 2.3358664512634277,\n",
    "            \"entity\": {}\n",
    "        },\n",
    "        {\n",
    "            \"id\": 8,\n",
    "            \"distance\": 0.5642921924591064,\n",
    "            \"entity\": {}\n",
    "        }\n",
    "    ] # Result set 2\n",
    "]\n",
    "```\n",
    "\n",
    "结果包括两组最近邻，每个查询向量一组，展示了批量向量搜索在一次处理多个查询向量时的效率。\n"
   ]
  },
  {
   "cell_type": "markdown",
   "id": "e0e57124",
   "metadata": {
    "hidden": true
   },
   "source": [
    "\n",
    "### 分割搜索"
   ]
  },
  {
   "cell_type": "markdown",
   "id": "250492bd",
   "metadata": {
    "hidden": true
   },
   "source": [
    "分区搜索将搜索范围缩小到集合的特定子集或分区。这对于有组织的数据集特别有用，其中数据被分割为逻辑或分类分区，通过减少要扫描的数据量来实现更快的搜索操作。\n",
    "\n",
    "要执行分区搜索，只需在搜索请求的`partition_names`中包含目标分区的名称。这指定`search`操作仅考虑指定分区内的向量。\n",
    "\n",
    "以下是在`partition_1`中搜索实体的示例：\n",
    "\n",
    "```python\n",
    "# Search in partition_1\n",
    "res = client.search(\n",
    "    collection_name=\"test_collection\", # Replace with the actual name of your collection\n",
    "    data=[[0.02174828545444263, 0.058611125483182924, 0.6168633415965343, -0.7944160935612321, 0.5554828317581426]],\n",
    "    limit=5, # Max. number of search results to return\n",
    "    search_params={\"metric_type\": \"IP\", \"params\": {}}, # Search parameters\n",
    "    partition_names=[\"partition_1\"] # Partition names to search in\n",
    ")\n",
    "\n",
    "result = json.dumps(res, indent=4)\n",
    "print(result)\n",
    "```\n",
    "\n",
    "输出类似于以下内容：\n",
    "\n",
    "```python\n",
    "[\n",
    "    [\n",
    "        {\n",
    "            \"id\": 16,\n",
    "            \"distance\": 0.9200337529182434,\n",
    "            \"entity\": {}\n",
    "        },\n",
    "        {\n",
    "            \"id\": 14,\n",
    "            \"distance\": 0.4505271911621094,\n",
    "            \"entity\": {}\n",
    "        },\n",
    "        {\n",
    "            \"id\": 15,\n",
    "            \"distance\": 0.19924677908420563,\n",
    "            \"entity\": {}\n",
    "        },\n",
    "        {\n",
    "            \"id\": 17,\n",
    "            \"distance\": 0.0075093843042850494,\n",
    "            \"entity\": {}\n",
    "        },\n",
    "        {\n",
    "            \"id\": 13,\n",
    "            \"distance\": -0.14609718322753906,\n",
    "            \"entity\": {}\n",
    "        }\n",
    "    ]\n",
    "]\n",
    "```\n",
    "\n",
    "然后，在`partition_2`中搜索实体：\n",
    "\n",
    "```python\n",
    "# Create a MilvusClient instance\n",
    "client = MilvusClient(\n",
    "    uri=\"http://localhost:19530\",\n",
    ")\n",
    "\n",
    "# Search in partition_2\n",
    "res = client.search(\n",
    "    collection_name=\"test_collection\", # Replace with the actual name of your collection\n",
    "    data=[[-0.2798451532635784, 0.9486592746891414, -0.9311928407781922, 0.1830057032090473, 0.6962886429672028]],\n",
    "    limit=5, # Max. number of search results to return\n",
    "    search_params={\"metric_type\": \"IP\", \"params\": {}}, # Search parameters\n",
    "    partition_names=[\"partition_2\"] # Partition names to search in\n",
    ")\n",
    "\n",
    "result = json.dumps(res, indent=4)\n",
    "print(result)\n",
    "```\n",
    "\n",
    "输出类似于以下内容：\n",
    "\n",
    "```python\n",
    "[\n",
    "    [\n",
    "        {\n",
    "            \"id\": 20,\n",
    "            \"distance\": 2.363696813583374,\n",
    "            \"entity\": {}\n",
    "        },\n",
    "        {\n",
    "            \"id\": 26,\n",
    "            \"distance\": 1.0665391683578491,\n",
    "            \"entity\": {}\n",
    "        },\n",
    "        {\n",
    "            \"id\": 23,\n",
    "            \"distance\": 1.066049575805664,\n",
    "            \"entity\": {}\n",
    "        },\n",
    "        {\n",
    "            \"id\": 29,\n",
    "            \"distance\": 0.8353596925735474,\n",
    "            \"entity\": {}\n",
    "        },\n",
    "        {\n",
    "            \"id\": 28,\n",
    "            \"distance\": 0.7484277486801147,\n",
    "            \"entity\": {}\n",
    "        }\n",
    "    ]\n",
    "]\n",
    "```\n",
    "\n",
    "`partition_1`中的数据与`partition_2`中的数据不同。因此，搜索结果将被限制到指定的分区，反映该子集的独特特征和数据分布。\n"
   ]
  },
  {
   "cell_type": "markdown",
   "id": "b402208b",
   "metadata": {
    "hidden": true
   },
   "source": [
    "### 使用输出字段搜索"
   ]
  },
  {
   "cell_type": "markdown",
   "id": "34209a96",
   "metadata": {
    "hidden": true
   },
   "source": [
    "使用输出字段搜索允许您指定匹配向量的哪些属性或字段应包含在搜索结果中。\n",
    "\n",
    "您可以在请求中指定`output_fields`以返回具有特定字段的结果。\n",
    "\n",
    "下面是返回带有`color`属性值的结果的示例："
   ]
  },
  {
   "cell_type": "code",
   "execution_count": 11,
   "id": "fcd0161b",
   "metadata": {
    "collapsed": true,
    "hidden": true
   },
   "outputs": [
    {
     "name": "stdout",
     "output_type": "stream",
     "text": [
      "[\n",
      "    [\n",
      "        {\n",
      "            \"id\": 572,\n",
      "            \"distance\": 1.870904803276062,\n",
      "            \"entity\": {\n",
      "                \"color\": \"grey_6603\"\n",
      "            }\n",
      "        },\n",
      "        {\n",
      "            \"id\": 894,\n",
      "            \"distance\": 1.842880129814148,\n",
      "            \"entity\": {\n",
      "                \"color\": \"red_9899\"\n",
      "            }\n",
      "        },\n",
      "        {\n",
      "            \"id\": 751,\n",
      "            \"distance\": 1.6808228492736816,\n",
      "            \"entity\": {\n",
      "                \"color\": \"yellow_7628\"\n",
      "            }\n",
      "        },\n",
      "        {\n",
      "            \"id\": 673,\n",
      "            \"distance\": 1.6371359825134277,\n",
      "            \"entity\": {\n",
      "                \"color\": \"purple_4815\"\n",
      "            }\n",
      "        },\n",
      "        {\n",
      "            \"id\": 364,\n",
      "            \"distance\": 1.6252869367599487,\n",
      "            \"entity\": {\n",
      "                \"color\": \"white_2448\"\n",
      "            }\n",
      "        }\n",
      "    ]\n",
      "]\n"
     ]
    }
   ],
   "source": [
    "# Search with output fields\n",
    "res = client.search(\n",
    "    collection_name=\"quick_setup\", # Replace with the actual name of your collection\n",
    "    data=[[0.3580376395471989, -0.6023495712049978, 0.18414012509913835, -0.26286205330961354, 0.9029438446296592]],\n",
    "    limit=5, # Max. number of search results to return\n",
    "    search_params={\"metric_type\": \"IP\", \"params\": {}}, # Search parameters\n",
    "    output_fields=[\"color\"] # Output fields to return\n",
    ")\n",
    "\n",
    "result = json.dumps(res, indent=4)\n",
    "print(result)"
   ]
  },
  {
   "cell_type": "markdown",
   "id": "b0da763f",
   "metadata": {
    "hidden": true
   },
   "source": [
    "\n",
    "\n",
    "输出类似于以下内容：\n",
    "\n",
    "```python\n",
    "[\n",
    "    [\n",
    "        {\n",
    "            \"id\": 0,\n",
    "            \"distance\": 1.4093276262283325,\n",
    "            \"entity\": {\n",
    "                \"color\": \"pink_8682\"\n",
    "            }\n",
    "        },\n",
    "        {\n",
    "            \"id\": 16,\n",
    "            \"distance\": 1.0159327983856201,\n",
    "            \"entity\": {\n",
    "                \"color\": \"yellow_1496\"\n",
    "            }\n",
    "        },\n",
    "        {\n",
    "            \"id\": 4,\n",
    "            \"distance\": 0.9902134537696838,\n",
    "            \"entity\": {\n",
    "                \"color\": \"red_4794\"\n",
    "            }\n",
    "        },\n",
    "        {\n",
    "            \"id\": 14,\n",
    "            \"distance\": 0.9803846478462219,\n",
    "            \"entity\": {\n",
    "                \"color\": \"green_2899\"\n",
    "            }\n",
    "        },\n",
    "        {\n",
    "            \"id\": 1,\n",
    "            \"distance\": 0.8519943356513977,\n",
    "            \"entity\": {\n",
    "                \"color\": \"red_7025\"\n",
    "            }\n",
    "        }\n",
    "    ]\n",
    "]\n",
    "```\n",
    "\n",
    "除了最近的邻居，搜索结果将包括指定的字段`color`，为每个匹配向量提供更丰富的信息集。\n"
   ]
  },
  {
   "cell_type": "markdown",
   "id": "ab6dae05",
   "metadata": {
    "hidden": true
   },
   "source": [
    "## 过滤的搜索\n",
    "\n",
    "筛选搜索将标量筛选器应用于矢量搜索，允许您根据特定条件优化搜索结果。您可以在[布尔表达式规则](https://milvus.io/docs/boolean.md)中找到有关过滤器表达式的更多信息，并在[获取标量查询](https://milvus.io/docs/get-and-scalar-query.md)中找到示例。\n",
    "\n",
    "### 使用 `like` 操作者\n",
    "\n",
    "`like`运算符通过评估包括前缀、中缀和后缀在内的模式来增强字符串搜索：\n",
    "\n",
    "- 前缀匹配：要查找以特定前缀开头的值，请使用语法`'like \"prefix%\"'`。\n",
    "- 中缀匹配：要在字符串中的任何位置查找包含特定字符序列的值，请使用语法`'like \"%infix%\"'`。\n",
    "- 后缀匹配：要查找以特定后缀结尾的值，请使用语法`'like \"%suffix\"'`。\n",
    "\n",
    "对于单字符匹配，下划线（`_`）充当一个字符的下划线，例如，`'like \"y_llow\"'`.\n",
    "\n",
    "### 搜索字符串中的特殊字符\n",
    "\n",
    "如果要搜索包含特殊字符（如下划线（`_`）或百分比符号（`%`））的字符串，这些字符通常在搜索模式中用作通配符（`_`用于任何单个字符，`%`用于任何字符序列），则必须对这些字符进行转义以将其视为原义字符。使用反斜杠（`\\`）来转义特殊字符，并记住转义反斜杠本身。例如：\n",
    "\n",
    "- 要搜索文本下划线，请使用`\\\\_`。\n",
    "- 要搜索文字百分比符号，请使用`\\\\%`。\n",
    "\n",
    "因此，如果您需要搜索文本`\"_version_\"`，您的查询应格式化为`'like \"\\\\_version\\\\_\"'`，以确保下划线被视为搜索词的一部分，而不是通配符。\n",
    "\n",
    "过滤颜色前缀为红色的结果："
   ]
  },
  {
   "cell_type": "code",
   "execution_count": 12,
   "id": "1fb09cbf",
   "metadata": {
    "collapsed": true,
    "hidden": true
   },
   "outputs": [
    {
     "name": "stdout",
     "output_type": "stream",
     "text": [
      "[\n",
      "    [\n",
      "        {\n",
      "            \"id\": 894,\n",
      "            \"distance\": 1.842880129814148,\n",
      "            \"entity\": {\n",
      "                \"color\": \"red_9899\"\n",
      "            }\n",
      "        },\n",
      "        {\n",
      "            \"id\": 554,\n",
      "            \"distance\": 1.577196478843689,\n",
      "            \"entity\": {\n",
      "                \"color\": \"red_8375\"\n",
      "            }\n",
      "        },\n",
      "        {\n",
      "            \"id\": 395,\n",
      "            \"distance\": 1.3502776622772217,\n",
      "            \"entity\": {\n",
      "                \"color\": \"red_2586\"\n",
      "            }\n",
      "        },\n",
      "        {\n",
      "            \"id\": 190,\n",
      "            \"distance\": 1.217180848121643,\n",
      "            \"entity\": {\n",
      "                \"color\": \"red_2064\"\n",
      "            }\n",
      "        },\n",
      "        {\n",
      "            \"id\": 616,\n",
      "            \"distance\": 1.204943060874939,\n",
      "            \"entity\": {\n",
      "                \"color\": \"red_2544\"\n",
      "            }\n",
      "        }\n",
      "    ]\n",
      "]\n"
     ]
    }
   ],
   "source": [
    "# Search with filter\n",
    "res = client.search(\n",
    "    collection_name=\"quick_setup\", # Replace with the actual name of your collection\n",
    "    data=[[0.3580376395471989, -0.6023495712049978, 0.18414012509913835, -0.26286205330961354, 0.9029438446296592]],\n",
    "    limit=5, # Max. number of search results to return\n",
    "    search_params={\"metric_type\": \"IP\", \"params\": {}}, # Search parameters\n",
    "    output_fields=[\"color\"], # Output fields to return\n",
    "    filter='color like \"red%\"'\n",
    ")\n",
    "\n",
    "result = json.dumps(res, indent=4)\n",
    "print(result)"
   ]
  },
  {
   "cell_type": "markdown",
   "id": "0b3765fe",
   "metadata": {
    "hidden": true
   },
   "source": [
    "输出类似于以下内容：\n",
    "\n",
    "```python\n",
    "[\n",
    "    [\n",
    "        {\n",
    "            \"id\": 4,\n",
    "            \"distance\": 0.9902134537696838,\n",
    "            \"entity\": {\n",
    "                \"color\": \"red_4794\"\n",
    "            }\n",
    "        },\n",
    "        {\n",
    "            \"id\": 1,\n",
    "            \"distance\": 0.8519943356513977,\n",
    "            \"entity\": {\n",
    "                \"color\": \"red_7025\"\n",
    "            }\n",
    "        },\n",
    "        {\n",
    "            \"id\": 6,\n",
    "            \"distance\": -0.4113418459892273,\n",
    "            \"entity\": {\n",
    "                \"color\": \"red_9392\"\n",
    "            }\n",
    "        }\n",
    "    ]\n",
    "]\n",
    "```"
   ]
  },
  {
   "cell_type": "markdown",
   "id": "8ec8fed6",
   "metadata": {
    "hidden": true
   },
   "source": [
    "\n",
    "过滤字符串中颜色包含字母`11`的结果："
   ]
  },
  {
   "cell_type": "code",
   "execution_count": 15,
   "id": "2f0fcf14",
   "metadata": {
    "hidden": true,
    "scrolled": true
   },
   "outputs": [
    {
     "name": "stdout",
     "output_type": "stream",
     "text": [
      "[\n",
      "    [\n",
      "        {\n",
      "            \"id\": 751,\n",
      "            \"distance\": 1.6808228492736816,\n",
      "            \"entity\": {\n",
      "                \"color\": \"yellow_7628\"\n",
      "            }\n",
      "        },\n",
      "        {\n",
      "            \"id\": 102,\n",
      "            \"distance\": 1.3870998620986938,\n",
      "            \"entity\": {\n",
      "                \"color\": \"yellow_4662\"\n",
      "            }\n",
      "        },\n",
      "        {\n",
      "            \"id\": 848,\n",
      "            \"distance\": 1.2569729089736938,\n",
      "            \"entity\": {\n",
      "                \"color\": \"yellow_5906\"\n",
      "            }\n",
      "        },\n",
      "        {\n",
      "            \"id\": 411,\n",
      "            \"distance\": 1.254452109336853,\n",
      "            \"entity\": {\n",
      "                \"color\": \"yellow_2709\"\n",
      "            }\n",
      "        },\n",
      "        {\n",
      "            \"id\": 77,\n",
      "            \"distance\": 1.1365606784820557,\n",
      "            \"entity\": {\n",
      "                \"color\": \"yellow_1366\"\n",
      "            }\n",
      "        }\n",
      "    ]\n",
      "]\n"
     ]
    }
   ],
   "source": [
    "# Infix match on color field\n",
    "res = client.search(\n",
    "    collection_name=\"quick_setup\", # Replace with the actual name of your collection\n",
    "    data=[[0.3580376395471989, -0.6023495712049978, 0.18414012509913835, -0.26286205330961354, 0.9029438446296592]],\n",
    "    limit=5, # Max. number of search results to return\n",
    "    search_params={\"metric_type\": \"IP\", \"params\": {}}, # Search parameters\n",
    "    output_fields=[\"color\"], # Output fields to return\n",
    "    filter='color like \"%ll%\"' # Filter on color field, infix match on \"ll\"\n",
    ")\n",
    "\n",
    "result = json.dumps(res, indent=4)\n",
    "print(result)"
   ]
  },
  {
   "cell_type": "markdown",
   "id": "fec168d2",
   "metadata": {
    "hidden": true
   },
   "source": [
    "\n",
    "\n",
    "输出类似于以下内容：\n",
    "\n",
    "```python\n",
    "[\n",
    "    [\n",
    "        {\n",
    "            \"id\": 5,\n",
    "            \"distance\": 0.7972343564033508,\n",
    "            \"entity\": {\n",
    "                \"color\": \"yellow_4222\"\n",
    "            }\n",
    "        }\n",
    "    ]\n",
    "]\n",
    "```"
   ]
  },
  {
   "cell_type": "markdown",
   "id": "4e3a96e2",
   "metadata": {
    "code_folding": [],
    "hidden": true
   },
   "source": [
    "## 范围搜索"
   ]
  },
  {
   "cell_type": "markdown",
   "id": "66ae034a",
   "metadata": {
    "hidden": true
   },
   "source": [
    "范围搜索允许您查找位于查询向量的指定距离范围内的向量。\n",
    "\n",
    "通过设置`radius`和可选的`range_filter`，您可以调整搜索的广度，以包括与查询向量有些相似的向量，从而提供对潜在匹配的更全面的视图。\n",
    "\n",
    "- `radius`：定义搜索空间的外部边界。只有与查询向量在此距离内的向量才被视为潜在匹配。\n",
    "- `range_filter`：虽然`radius`设置搜索的外部限制，但`range_filter`可以可选地用于定义内部边界，创建一个距离范围，在该范围内矢量必须被视为匹配。\n"
   ]
  },
  {
   "cell_type": "code",
   "execution_count": 22,
   "id": "90db9b40",
   "metadata": {
    "hidden": true
   },
   "outputs": [
    {
     "name": "stdout",
     "output_type": "stream",
     "text": [
      "[\n",
      "    [\n",
      "        {\n",
      "            \"id\": 697,\n",
      "            \"distance\": 0.9987217783927917,\n",
      "            \"entity\": {\n",
      "                \"color\": \"orange_9374\"\n",
      "            }\n",
      "        },\n",
      "        {\n",
      "            \"id\": 415,\n",
      "            \"distance\": 0.9968745708465576,\n",
      "            \"entity\": {\n",
      "                \"color\": \"purple_2488\"\n",
      "            }\n",
      "        },\n",
      "        {\n",
      "            \"id\": 371,\n",
      "            \"distance\": 0.9961320161819458,\n",
      "            \"entity\": {\n",
      "                \"color\": \"blue_5769\"\n",
      "            }\n",
      "        }\n",
      "    ]\n",
      "]\n"
     ]
    }
   ],
   "source": [
    "# Conduct a range search\n",
    "search_params = {\n",
    "    \"metric_type\": \"IP\",\n",
    "    \"params\": {\n",
    "        \"radius\": 0.8, # Radius of the search circle\n",
    "        \"range_filter\": 1.0 # Range filter to filter out vectors that are not within the search circle\n",
    "    }\n",
    "}\n",
    "\n",
    "res = client.search(\n",
    "    collection_name=\"quick_setup\", # Replace with the actual name of your collection\n",
    "    data=[[0.3580376395471989, -0.6023495712049978, 0.18414012509913835, -0.26286205330961354, 0.9029438446296592]],\n",
    "    limit=3, # Max. number of search results to return\n",
    "    search_params=search_params, # Search parameters\n",
    "    output_fields=[\"color\"], # Output fields to return\n",
    ")\n",
    "\n",
    "result = json.dumps(res, indent=4)\n",
    "print(result)"
   ]
  },
  {
   "cell_type": "markdown",
   "id": "5b264b73",
   "metadata": {
    "hidden": true
   },
   "source": [
    "输出类似于以下内容：\n",
    "\n",
    "```python\n",
    "[\n",
    "    [\n",
    "        {\n",
    "            \"id\": 4,\n",
    "            \"distance\": 0.9902134537696838,\n",
    "            \"entity\": {\n",
    "                \"color\": \"red_4794\"\n",
    "            }\n",
    "        },\n",
    "        {\n",
    "            \"id\": 14,\n",
    "            \"distance\": 0.9803846478462219,\n",
    "            \"entity\": {\n",
    "                \"color\": \"green_2899\"\n",
    "            }\n",
    "        },\n",
    "        {\n",
    "            \"id\": 1,\n",
    "            \"distance\": 0.8519943356513977,\n",
    "            \"entity\": {\n",
    "                \"color\": \"red_7025\"\n",
    "            }\n",
    "        }\n",
    "    ]\n",
    "]\n",
    "```"
   ]
  },
  {
   "cell_type": "markdown",
   "id": "5d8a3b5d",
   "metadata": {
    "hidden": true
   },
   "source": [
    "您将观察到，返回的所有实体与查询向量的距离都在福尔斯的0.8到1.0之间。\n",
    "\n",
    "`radius`和`range_filter`的参数设置随使用的度量类型而异。\n",
    "\n",
    "| **度量标准类型** | **释义**                   | **范围搜索设置**                                             |\n",
    "| :--------------- | :----------------------------- | :----------------------------------------------------------- |\n",
    "| `L2`            | 较小的L2距离表示较高的相似性。 | 要从结果中排除最接近的向量，请确保： `range_filter`<=距离<`radius` |\n",
    "| `IP`            | IP距离越大，相似性越高。       | 要从结果中排除最接近的向量，请确保： `radius`<距离<= `range_filter` |\n"
   ]
  },
  {
   "cell_type": "markdown",
   "id": "f9c419af",
   "metadata": {
    "hidden": true
   },
   "source": [
    "## 分组检索"
   ]
  },
  {
   "cell_type": "markdown",
   "id": "3e788a8c",
   "metadata": {
    "hidden": true
   },
   "source": [
    "在Milvus中，按特定字段分组搜索可以避免结果中相同字段项的冗余。您可以为特定字段获得一组不同的结果。\n",
    "\n",
    "考虑一个文档集合，每个文档分成不同的段落。每个段落由一个向量嵌入表示，并且属于一个文档。要查找相关文档而不是相似的段落，您可以在`group_by_field`操作中包含`search()`参数，以按文档ID对结果进行分组。这有助于返回最相关和唯一的文档，而不是来自同一文档的单独段落。\n",
    "\n",
    "下面是按字段对搜索结果进行分组的示例代码："
   ]
  },
  {
   "cell_type": "code",
   "execution_count": 35,
   "id": "e1c04a84",
   "metadata": {
    "hidden": true
   },
   "outputs": [
    {
     "name": "stdout",
     "output_type": "stream",
     "text": [
      "[\n",
      "    [\n",
      "        {\n",
      "            \"id\": 48,\n",
      "            \"distance\": 2.7333407402038574,\n",
      "            \"entity\": {\n",
      "                \"color\": \"purple_5797\"\n",
      "            }\n",
      "        },\n",
      "        {\n",
      "            \"id\": 94,\n",
      "            \"distance\": 2.532440662384033,\n",
      "            \"entity\": {\n",
      "                \"color\": \"yellow_3517\"\n",
      "            }\n",
      "        }\n",
      "    ]\n",
      "]\n"
     ]
    }
   ],
   "source": [
    "# Connect to Milvus\n",
    "client = MilvusClient(uri='http://localhost:19530') # Milvus server address\n",
    "\n",
    "# Load data into collection\n",
    "client.load_collection(\"quick_setup\") # Collection name\n",
    "\n",
    "# Group search results\n",
    "res = client.search(\n",
    "    collection_name=\"quick_setup\", # Collection name\n",
    "    data=[[0.14529211512077012, 0.9147257273453546, 0.7965055218724449, 0.7009258593102812, 0.5605206522382088]], # Query vector\n",
    "    search_params={\n",
    "        \"metric_type\": \"IP\",\n",
    "        \"params\": {\"nprobe\": 10},\n",
    "        }, # Search parameters\n",
    "    limit=2, # Max. number of search results to return\n",
    "    group_by_field=\"id\", # Group results by document ID\n",
    "    output_fields=[\"color\",]\n",
    ")\n",
    "\n",
    "result = json.dumps(res, indent=4)\n",
    "print(result)\n",
    "\n",
    "# # Retrieve the values in the `doc_id` column\n",
    "# doc_ids = [result['entity']['doc_id'] for result in res[0]]\n",
    "\n",
    "# print(doc_ids)"
   ]
  },
  {
   "cell_type": "markdown",
   "id": "39b56df2",
   "metadata": {
    "hidden": true
   },
   "source": [
    "输出类似于以下内容：\n",
    "\n",
    "```python\n",
    "[5, 10, 1, 7, 9, 6, 3, 4, 8, 2]\n",
    "```"
   ]
  },
  {
   "cell_type": "markdown",
   "id": "688f7d1f",
   "metadata": {
    "hidden": true
   },
   "source": [
    "在给定的输出中，可以观察到返回的实体不包含任何重复的`doc_id`值。\n",
    "\n",
    "为了进行比较，让我们注释掉`group_by_field`并进行常规搜索："
   ]
  },
  {
   "cell_type": "markdown",
   "id": "109e8f48",
   "metadata": {
    "hidden": true
   },
   "source": [
    "```python\n",
    "# Connect to Milvus\n",
    "client = MilvusClient(uri='http://localhost:19530') # Milvus server address\n",
    "\n",
    "# Load data into collection\n",
    "client.load_collection(\"group_search\") # Collection name\n",
    "\n",
    "# Search without `group_by_field`\n",
    "res = client.search(\n",
    "    collection_name=\"group_search\", # Collection name\n",
    "    data=query_passage_vector, # Replace with your query vector\n",
    "    search_params={\n",
    "    \"metric_type\": \"L2\",\n",
    "    \"params\": {\"nprobe\": 10},\n",
    "    }, # Search parameters\n",
    "    limit=10, # Max. number of search results to return\n",
    "    # group_by_field=\"doc_id\", # Group results by document ID\n",
    "    output_fields=[\"doc_id\", \"passage_id\"]\n",
    ")\n",
    "\n",
    "# Retrieve the values in the `doc_id` column\n",
    "doc_ids = [result['entity']['doc_id'] for result in res[0]]\n",
    "\n",
    "print(doc_ids)\n",
    "```\n",
    "\n",
    "输出类似于以下内容：\n",
    "\n",
    "```python\n",
    "[1, 10, 3, 10, 1, 9, 4, 4, 8, 6]\n",
    "```\n",
    "\n",
    "在给定的输出中，可以观察到返回的实体包含重复的`doc_id`值。"
   ]
  },
  {
   "cell_type": "markdown",
   "id": "9aa7c03f",
   "metadata": {
    "hidden": true
   },
   "source": [
    "**限制**\n",
    "\n",
    "- 索引：此分组功能仅适用于使用HNSW、IVF_FLAT或FLAT类型索引的集合。有关详细信息，请参阅内存索引。\n",
    "- Vector：目前，分组搜索不支持BINARY_VECTOR类型的向量字段。有关数据类型的详细信息，请参阅[支持的数据类型](https://milvus.io/docs/schema.md#Supported-data-types)。\n",
    "- 字段：目前，分组搜索只允许单个列。您不能在`group_by_field`配置中指定多个字段名称。 此外，分组搜索与JSON、FLOAT、DOUBLE、ARRAY或向量字段的数据类型不兼容。\n",
    "- 性能影响：请注意，性能会随着查询向量计数的增加而降低。使用具有2个CPU核心和8 GB内存的集群作为示例，分组搜索的执行时间随着输入查询向量的数量成比例地增加。\n",
    "- 功能：目前，[范围搜索](https://milvus.io/docs/single-vector-search.md#Range-search)、[搜索迭代](https://milvus.io/docs/with-iterators.md#Search-with-iterator)器或[多向量搜索](https://milvus.io/docs/multi-vector-search.md)不支持分组搜索\n"
   ]
  },
  {
   "cell_type": "markdown",
   "id": "b9f8b637",
   "metadata": {
    "hidden": true
   },
   "source": [
    "## 搜索参数"
   ]
  },
  {
   "cell_type": "markdown",
   "id": "37722741",
   "metadata": {
    "hidden": true
   },
   "source": [
    "在上述搜索中，除范围搜索外，默认搜索参数适用。在正常情况下，您不需要手动设置搜索参数。\n"
   ]
  },
  {
   "cell_type": "markdown",
   "id": "32a81c90",
   "metadata": {
    "hidden": true
   },
   "source": [
    "```python\n",
    "# In normal cases, you do not need to set search parameters manually\n",
    "# Except for range searches.\n",
    "search_parameters = {\n",
    "    'metric_type': 'L2',\n",
    "    'params': {\n",
    "        'nprobe': 10,\n",
    "        'level': 1，\n",
    "        'radius': 1.0\n",
    "        'range_filter': 0.8\n",
    "    }\n",
    "}\n",
    "```"
   ]
  },
  {
   "cell_type": "markdown",
   "id": "e8947bbf",
   "metadata": {
    "hidden": true
   },
   "source": [
    "下表列出了搜索参数中所有可能的设置。\n",
    "\n",
    "| **参数名称** | **参数描述**                                                 |\n",
    "| :----------- | :----------------------------------------------------------- |\n",
    "| `metric_type`        | 如何度量向量嵌入之间的相似性。 可能的值为`IP`、`L2`和`COSINE`，默认值为加载的索引文件的值。 |\n",
    "| `params.nprobe`        | 搜索期间要查询的单位数。 值福尔斯落在范围[1，nlist [1]]内。  |\n",
    "| `params.level`        | 搜索精度级别。 可能的值为`1`、`2`和`3`，默认值为`1`。值越大，结果越准确，但性能越差。 |\n",
    "| `params.radius`        | 查询向量和候选向量之间的最小相似度。 值福尔斯落在范围[1，nlist [1]]内。 |\n",
    "| `params.range_filter`        | 相似性范围，可选地细化对落在该范围内的向量的搜索。 值福尔斯落在范围[top-K [2]，∞]中。 |\n",
    "\n",
    "**注意到**\n",
    "\n",
    "[1]索引后的群集单元数。当索引集合时，Milvus将矢量数据细分为多个聚类单元，其数量随实际索引设置而变化。\n",
    "\n",
    "[2]搜索中要返回的实体数。"
   ]
  },
  {
   "cell_type": "markdown",
   "id": "24d78d76",
   "metadata": {
    "hidden": true
   },
   "source": [
    "------"
   ]
  },
  {
   "cell_type": "markdown",
   "id": "19af7560",
   "metadata": {},
   "source": [
    "# 多向量搜索"
   ]
  },
  {
   "cell_type": "markdown",
   "id": "f663b154",
   "metadata": {},
   "source": [
    "自Milvus 2.4以来，我们引入了多向量支持和混合搜索框架，这意味着用户可以将多个向量场（最多10个）带入单个集合。不同的向量场可以代表不同的方面，不同的嵌入模型，甚至是表征同一实体的数据的不同模态，这极大地扩展了信息的丰富性。此功能在综合搜索场景中特别有用，例如基于图片，语音，指纹等各种属性在矢量库中识别最相似的人。\n",
    "\n",
    "多向量搜索允许在各种向量字段上执行搜索请求，并使用重新排序策略（例如倒数秩融合（RRF）和加权评分）组合结果。要了解有关重新排序策略的更多信息，请参阅[重新排序](https://milvus.io/docs/reranking.md)。\n",
    "\n",
    "在本教程中，您将学习如何：\n",
    "\n",
    "- 创建多个`AnnSearchRequest`实例，用于在不同向量场上进行相似性搜索;\n",
    "- 配置重排序策略，对多个`AnnSearchRequest`实例的搜索结果进行联合收割机合并重排序;\n",
    "- 使用`hybrid_search()`方法执行多向量搜索。\n",
    "\n",
    "此页面上的代码片段使用PyMilvus ORM模块与Milvus交互。新的MilvusClient SDK的代码片段将很快提供。\n"
   ]
  },
  {
   "cell_type": "markdown",
   "id": "f0d70b0d",
   "metadata": {},
   "source": [
    "## 筹备工作"
   ]
  },
  {
   "cell_type": "markdown",
   "id": "5142e818",
   "metadata": {},
   "source": [
    "在开始多向量搜索之前，请确保您有一个包含多个向量字段的集合。\n",
    "\n",
    "下面是创建一个名为`test_collection`的集合的示例，其中包含两个向量字段`filmVector`和`posterVector`，并将随机实体插入其中。\n"
   ]
  },
  {
   "cell_type": "code",
   "execution_count": 36,
   "id": "651cb4dd",
   "metadata": {},
   "outputs": [],
   "source": [
    "from pymilvus import connections, Collection, FieldSchema, CollectionSchema, DataType\n",
    "import random\n",
    "\n",
    "# 1. Set up a Milvus client\n",
    "client = MilvusClient(\n",
    "    uri=\"http://localhost:19530\"\n",
    ")\n",
    "\n",
    "if client.has_collection(\"test_collection\"):\n",
    "    client.drop_collection(\"test_collection\")"
   ]
  },
  {
   "cell_type": "code",
   "execution_count": 37,
   "id": "0483c700",
   "metadata": {},
   "outputs": [],
   "source": [
    "# Connect to Milvus\n",
    "connections.connect(\n",
    "    host=\"localhost\", # Replace with your Milvus server IP\n",
    "    port=\"19530\"\n",
    ")\n",
    "\n",
    "# Create schema\n",
    "fields = [\n",
    "    FieldSchema(name=\"film_id\", dtype=DataType.INT64, is_primary=True),\n",
    "    FieldSchema(name=\"filmVector\", dtype=DataType.FLOAT_VECTOR, dim=5), # Vector field for film vectors\n",
    "    FieldSchema(name=\"posterVector\", dtype=DataType.FLOAT_VECTOR, dim=5)] # Vector field for poster vectors\n",
    "\n",
    "schema = CollectionSchema(fields=fields,enable_dynamic_field=False)\n",
    "\n",
    "# Create collection\n",
    "collection = Collection(name=\"test_collection\", schema=schema)"
   ]
  },
  {
   "cell_type": "code",
   "execution_count": 38,
   "id": "42a21937",
   "metadata": {},
   "outputs": [
    {
     "data": {
      "text/plain": [
       "(insert count: 1000, delete count: 0, upsert count: 0, timestamp: 449798074724777988, success count: 1000, err count: 0)"
      ]
     },
     "execution_count": 38,
     "metadata": {},
     "output_type": "execute_result"
    }
   ],
   "source": [
    "# Create index for each vector field\n",
    "index_params = {\n",
    "    \"metric_type\": \"L2\",\n",
    "    \"index_type\": \"IVF_FLAT\",\n",
    "    \"params\": {\"nlist\": 128},\n",
    "}\n",
    "\n",
    "collection.create_index(\"filmVector\", index_params)\n",
    "collection.create_index(\"posterVector\", index_params)\n",
    "\n",
    "# Generate random entities to insert\n",
    "entities = []\n",
    "\n",
    "for _ in range(1000):\n",
    "    # generate random values for each field in the schema\n",
    "    film_id = random.randint(1, 1000)\n",
    "    film_vector = [ random.random() for _ in range(5) ]\n",
    "    poster_vector = [ random.random() for _ in range(5) ]\n",
    "\n",
    "    # creat a dictionary for each entity\n",
    "    entity = {\n",
    "        \"film_id\": film_id,\n",
    "        \"filmVector\": film_vector,\n",
    "        \"posterVector\": poster_vector\n",
    "    }\n",
    "\n",
    "    # add the entity to the list\n",
    "    entities.append(entity)\n",
    "    \n",
    "collection.insert(entities)"
   ]
  },
  {
   "cell_type": "markdown",
   "id": "f49f06bf",
   "metadata": {},
   "source": [
    "## 步骤1：创建多个AnnSearchRequest"
   ]
  },
  {
   "cell_type": "markdown",
   "id": "39f89d3e",
   "metadata": {},
   "source": [
    "多向量搜索使用`hybrid_search()`API在单个调用中执行多个ANN搜索请求。每个`AnnSearchRequest`表示对特定向量字段的单个搜索请求。\n",
    "\n",
    "下面的示例创建两个`AnnSearchRequest`实例，以在两个向量场上执行单独的相似性搜索。"
   ]
  },
  {
   "cell_type": "code",
   "execution_count": 39,
   "id": "2ca1f852",
   "metadata": {},
   "outputs": [],
   "source": [
    "from pymilvus import AnnSearchRequest\n",
    "\n",
    "# Create ANN search request 1 for filmVector\n",
    "query_filmVector = [[0.8896863042430693, 0.370613100114602, 0.23779315077113428, 0.38227915951132996, 0.5997064603128835]]\n"
   ]
  },
  {
   "cell_type": "code",
   "execution_count": 40,
   "id": "f95ceee7",
   "metadata": {},
   "outputs": [],
   "source": [
    "search_param_1 = {\n",
    "    \"data\": query_filmVector, # Query vector\n",
    "    \"anns_field\": \"filmVector\", # Vector field name\n",
    "    \"param\": {\n",
    "        \"metric_type\": \"L2\", # This parameter value must be identical to the one used in the collection schema\n",
    "        \"params\": {\"nprobe\": 10}\n",
    "    },\n",
    "    \"limit\": 2 # Number of search results to return in this AnnSearchRequest\n",
    "}\n",
    "request_1 = AnnSearchRequest(**search_param_1)"
   ]
  },
  {
   "cell_type": "code",
   "execution_count": 41,
   "id": "3a035ed3",
   "metadata": {},
   "outputs": [],
   "source": [
    "# Create ANN search request 2 for posterVector\n",
    "query_posterVector = [[0.02550758562349764, 0.006085637357292062, 0.5325251250159071, 0.7676432650114147, 0.5521074424751443]]\n",
    "search_param_2 = {\n",
    "    \"data\": query_posterVector, # Query vector\n",
    "    \"anns_field\": \"posterVector\", # Vector field name\n",
    "    \"param\": {\n",
    "        \"metric_type\": \"L2\", # This parameter value must be identical to the one used in the collection schema\n",
    "        \"params\": {\"nprobe\": 10}\n",
    "    },\n",
    "    \"limit\": 2 # Number of search results to return in this AnnSearchRequest\n",
    "}\n",
    "request_2 = AnnSearchRequest(**search_param_2)\n",
    "\n",
    "# Store these two requests as a list in `reqs`\n",
    "reqs = [request_1, request_2]"
   ]
  },
  {
   "cell_type": "code",
   "execution_count": 42,
   "id": "274b4c9f",
   "metadata": {},
   "outputs": [
    {
     "data": {
      "text/plain": [
       "[<pymilvus.client.abstract.AnnSearchRequest at 0x1eaa569e860>,\n",
       " <pymilvus.client.abstract.AnnSearchRequest at 0x1eaa5638cd0>]"
      ]
     },
     "execution_count": 42,
     "metadata": {},
     "output_type": "execute_result"
    }
   ],
   "source": [
    "reqs"
   ]
  },
  {
   "cell_type": "markdown",
   "id": "26f4c79e",
   "metadata": {
    "code_folding": [
     7
    ]
   },
   "source": [
    "\n",
    "产品参数：\n",
    "\n",
    "- `AnnSearchRequest`（对象）\n",
    "\n",
    "  表示ANN搜索请求的类。每个混合搜索一次可以包含1到1，024个`ANNSearchRequest`对象。\n",
    "\n",
    "- `data`（列表）\n",
    "\n",
    "  要在单个`AnnSearchRequest`中搜索的查询向量。目前，此参数接受仅包含单个查询向量的列表，例如`[[0.5791814851218929, 0.5792985702614121, 0.8480776460143558, 0.16098005945243, 0.2842979317256803]]`。将来，此参数将扩展为接受多个查询向量。\n",
    "\n",
    "- `anns_field`（字符串）\n",
    "\n",
    "  要在单个`AnnSearchRequest`中使用的向量字段的名称。\n",
    "\n",
    "- `param`（dict）\n",
    "\n",
    "  单个`AnnSearchRequest`的搜索参数字典。这些搜索参数与单向量搜索的搜索参数相同。有关详细信息，请参阅[搜索参数](https://milvus.io/docs/single-vector-search.md#Search-parameters)。\n",
    "\n",
    "- `limit`（int）\n",
    "\n",
    "  要包含在单个`ANNSearchRequest`中的最大搜索结果数。\n",
    "\n",
    "  此参数仅影响单个`ANNSearchRequest`中返回的搜索结果的数量，而不决定`hybrid_search`调用返回的最终结果。在混合搜索中，最终结果是通过组合和重新排序来自多个`ANNSearchRequest`实例的结果来确定的。\n"
   ]
  },
  {
   "cell_type": "markdown",
   "id": "5f55e284",
   "metadata": {},
   "source": [
    "## 步骤2：配置重新排名策略"
   ]
  },
  {
   "cell_type": "markdown",
   "id": "a816f62e",
   "metadata": {},
   "source": [
    "创建`AnnSearchRequest`实例后，配置重新排序策略，对结果进行联合收割机合并和重新排序。目前有两个选项：`WeightedRanker`和`RRFRanker`。有关重新排序策略的更多信息，请参阅[重新排序](https://milvus.io/docs/reranking.md)。\n",
    "\n",
    "- 使用加权评分\n",
    "\n",
    "  `WeightedRanker`用于为具有指定权重的每个向量场搜索的结果分配重要性。如果您将某些向量场的优先级设置为高于其他向量场，`WeightedRanker(value1, value2, ..., valueN)`可以在组合搜索结果中反映这一点。\n"
   ]
  },
  {
   "cell_type": "code",
   "execution_count": 43,
   "id": "d83f69ad",
   "metadata": {},
   "outputs": [],
   "source": [
    "from pymilvus import WeightedRanker\n",
    "# Use WeightedRanker to combine results with specified weights\n",
    "# Assign weights of 0.8 to text search and 0.2 to image search\n",
    "rerank = WeightedRanker(0.8, 0.2)  "
   ]
  },
  {
   "cell_type": "markdown",
   "id": "0e2055a7",
   "metadata": {},
   "source": [
    "\n",
    "\n",
    "  使用`WeightedRanker`时，请注意：\n",
    "\n",
    "  - 每个权重值的范围从0（最不重要）到1（最重要），影响最终的汇总分数。\n",
    "  - `WeightedRanker`中提供的权重值总数应等于您创建的`AnnSearchRequest`实例数。\n",
    "\n",
    "- 使用倒数等级融合（RFF）\n",
    "\n",
    "  ```python\n",
    "  # Alternatively, use RRFRanker for reciprocal rank fusion reranking\n",
    "  from pymilvus import RRFRanker\n",
    "  \n",
    "  rerank = RRFRanker()\n",
    "  ```"
   ]
  },
  {
   "cell_type": "markdown",
   "id": "9568ebe3",
   "metadata": {},
   "source": [
    "## 步骤3：执行混合搜索"
   ]
  },
  {
   "cell_type": "markdown",
   "id": "b76cdb2b",
   "metadata": {},
   "source": [
    "设置了`AnnSearchRequest`实例和重排序策略后，使用`hybrid_search()`方法执行多向量搜索。\n"
   ]
  },
  {
   "cell_type": "code",
   "execution_count": 44,
   "id": "1bc01fcf",
   "metadata": {},
   "outputs": [
    {
     "name": "stdout",
     "output_type": "stream",
     "text": [
      "[\"['id: 250, distance: 0.7905547022819519, entity: {}', 'id: 226, distance: 0.7776205539703369, entity: {}']\"]\n"
     ]
    }
   ],
   "source": [
    "# Before conducting multi-vector search, load the collection into memory.\n",
    "collection.load()\n",
    "\n",
    "res = collection.hybrid_search(\n",
    "    reqs, # List of AnnSearchRequests created in step 1\n",
    "    rerank, # Reranking strategy specified in step 2\n",
    "    limit=2 # Number of final search results to return\n",
    ")\n",
    "\n",
    "print(res)"
   ]
  },
  {
   "cell_type": "markdown",
   "id": "343827d0",
   "metadata": {},
   "source": [
    "产品参数：\n",
    "\n",
    "- `data`（列表）\n",
    "\n",
    "  一个搜索请求列表，其中每个请求都是一个`ANNSearchRequest`对象。每个请求可以对应于不同的向量场和不同的搜索参数集合。\n",
    "\n",
    "- `AnnSearchRequest`（对象）\n",
    "\n",
    "  用于混合搜索的重排序策略。可能的值：`WeightedRanker(value1, value2, ..., valueN)`和`RRFRanker()`。\n",
    "\n",
    "  有关重新排序策略的更多信息，请参阅[重新排序](https://milvus.io/docs/reranking.md)。\n",
    "\n",
    "- `limit`（int）\n",
    "\n",
    "  在混合搜索中返回的最大最终结果数。\n",
    "\n",
    "输出类似于以下内容：\n",
    "\n",
    "```python\n",
    "[\"['id: 844, distance: 0.006047376897186041, entity: {}', 'id: 876, distance: 0.006422005593776703, entity: {}']\"]\n",
    "```"
   ]
  },
  {
   "cell_type": "markdown",
   "id": "82c67cf7",
   "metadata": {},
   "source": [
    "## 限制\n",
    "\n",
    "- 通常，每个集合默认允许最多4个向量字段。但是，您可以选择调整`proxy.maxVectorFieldNum`配置以扩展集合中的最大向量字段数，每个集合的最大限制为10个向量字段。更多信息请参见[代理相关插件](https://milvus.io/docs/configure_proxy.md#Proxy-related-Configurations)。\n",
    "- 集合中的部分索引或加载向量字段将导致错误。\n",
    "- 目前，混合搜索中的每个`AnnSearchRequest`只能携带一个查询向量。"
   ]
  },
  {
   "cell_type": "markdown",
   "id": "ac8d6718",
   "metadata": {},
   "source": [
    "## FAQ"
   ]
  },
  {
   "cell_type": "markdown",
   "id": "efc1e559",
   "metadata": {},
   "source": [
    "- **在哪种情况下推荐使用多向量搜索？**\n",
    "\n",
    "  多向量搜索是要求高精度的复杂情况的理想选择，特别是当一个实体可以由多个不同的向量表示时。这适用于通过不同的嵌入模型处理相同数据（如句子）或将多模态信息（如个人的图像，指纹和声纹）转换为各种矢量格式的情况。通过给这些向量分配权重，它们的组合影响可以显着丰富召回率并提高搜索结果的有效性。\n",
    "\n",
    "- **加权排序器如何将不同向量场之间的距离归一化？**\n",
    "\n",
    "  加权排序器使用分配给每个字段的权重来规范化向量字段之间的距离。它根据权重计算每个向量场的重要性，优先考虑权重较高的向量场。建议在ANN搜索请求中使用相同的度量类型，以确保一致性。这种方法确保了被认为更重要的向量对整体排名有更大的影响。\n",
    "\n",
    "- **是否可以使用其他排名器，如Cohere Ranker或BGE Ranker？**\n",
    "\n",
    "  目前，仅支持提供的排名。计划包括更多的排名正在进行中，为未来的更新。\n",
    "\n",
    "- **是否可以同时进行多个混合搜索操作？**\n",
    "\n",
    "  支持，支持同时执行多个混合搜索操作。\n",
    "\n",
    "- **我可以在多个AnnSearchRequest对象中使用相同的向量字段来执行混合搜索吗？**\n",
    "\n",
    "  从技术上讲，可以在多个AnnSearchRequest对象中使用相同的向量字段进行混合搜索。混合搜索不需要多个向量场。"
   ]
  },
  {
   "cell_type": "markdown",
   "id": "fe33993c",
   "metadata": {},
   "source": [
    "------"
   ]
  },
  {
   "cell_type": "markdown",
   "id": "eb276e86",
   "metadata": {},
   "source": [
    "# Get & Scalar Query获取标量查询\n",
    "\n",
    "本指南演示如何通过ID获取实体并进行标量过滤。标量筛选检索与指定筛选条件匹配的实体。"
   ]
  },
  {
   "cell_type": "markdown",
   "id": "f501403a",
   "metadata": {},
   "source": [
    "## 概述\n",
    "\n",
    "标量查询基于使用布尔表达式定义的条件筛选集合中的实体。查询结果是一组与定义的条件匹配的实体。与向量搜索不同，它识别集合中与给定向量最接近的向量，查询基于特定标准过滤实体。\n",
    "\n",
    "在Milvus中，过滤器总是一个字符串，它压缩了由运算符连接的字段名称。在本指南中，您将找到各种过滤器示例。要了解有关操作符详细信息的更多信息，请转到[参考](https://milvus.io/docs/get-and-scalar-query.md#Reference-on-scalar-filters)部分。\n",
    "\n",
    "此页面上的代码片段使用新[的MilvusClient](https://milvus.io/api-reference/pymilvus/v2.4.x/About.md)（Python）与Milvus交互。其他语言的新MilvusClient SDK将在未来的更新中发布。\n"
   ]
  },
  {
   "cell_type": "markdown",
   "id": "90146d0d",
   "metadata": {},
   "source": [
    "\n",
    "## 筹备工作\n",
    "\n",
    "以下步骤重新调整代码的用途，以连接到Milvus，快速设置集合，并将1，000多个随机生成的实体插入到集合中。\n"
   ]
  },
  {
   "cell_type": "markdown",
   "id": "4259ec85",
   "metadata": {},
   "source": [
    "### 步骤1：创建 Collection"
   ]
  },
  {
   "cell_type": "code",
   "execution_count": 47,
   "id": "e859bc06",
   "metadata": {},
   "outputs": [],
   "source": [
    "from pymilvus import MilvusClient\n",
    "\n",
    "# 1. Set up a Milvus client\n",
    "client = MilvusClient(\n",
    "    uri=\"http://localhost:19530\"\n",
    ")\n",
    "\n",
    "if client.has_collection(\"quick_setup\"):\n",
    "    client.drop_collection(\"quick_setup\")\n",
    "\n",
    "# 2. Create a collection\n",
    "client.create_collection(\n",
    "    collection_name=\"quick_setup\",\n",
    "    dimension=5,\n",
    ")"
   ]
  },
  {
   "cell_type": "markdown",
   "id": "54320a4b",
   "metadata": {},
   "source": [
    "### 步骤2：插入随机生成的实体"
   ]
  },
  {
   "cell_type": "code",
   "execution_count": 48,
   "id": "e71d45e6",
   "metadata": {},
   "outputs": [
    {
     "name": "stdout",
     "output_type": "stream",
     "text": [
      "{'id': 0, 'vector': [0.09511546909433033, -0.9058442894044367, -0.45423166762539924, -0.17148939187609447, 0.8446262767540593], 'color': 'blue', 'tag': 7010, 'color_tag': 'blue_7010'}\n"
     ]
    }
   ],
   "source": [
    "# 3. Insert randomly generated vectors \n",
    "colors = [\"green\", \"blue\", \"yellow\", \"red\", \"black\", \"white\", \"purple\", \"pink\", \"orange\", \"brown\", \"grey\"]\n",
    "data = [ {\n",
    "        \"id\": i, \n",
    "        \"vector\": [ random.uniform(-1, 1) for _ in range(5) ], \n",
    "        \"color\": random.choice(colors), \n",
    "        \"tag\": random.randint(1000, 9999) \n",
    "    } for i in range(1000) ]\n",
    "\n",
    "for i in data:\n",
    "    i[\"color_tag\"] = \"{}_{}\".format(i[\"color\"], i[\"tag\"])\n",
    "\n",
    "print(data[0])\n"
   ]
  },
  {
   "cell_type": "code",
   "execution_count": 50,
   "id": "d84cf6af",
   "metadata": {},
   "outputs": [],
   "source": [
    "# 4. Insert entities to the collection\n",
    "res = client.insert(\n",
    "    collection_name=\"quick_setup\",\n",
    "    data=data\n",
    ")\n",
    "\n",
    "# print(res)"
   ]
  },
  {
   "cell_type": "markdown",
   "id": "e6a602f2",
   "metadata": {},
   "source": [
    "### 步骤3：创建分区并插入更多实体\n"
   ]
  },
  {
   "cell_type": "code",
   "execution_count": 53,
   "id": "4c31fa2c",
   "metadata": {},
   "outputs": [],
   "source": [
    "# 5. Create two partitions\n",
    "client.create_partition(collection_name=\"quick_setup\", partition_name=\"partitionA\")\n",
    "client.create_partition(collection_name=\"quick_setup\", partition_name=\"partitionB\")\n",
    "\n",
    "# 6. Insert 500 entities in partition A\n",
    "data = [ {\n",
    "        \"id\": i + 1000, \n",
    "        \"vector\": [ random.uniform(-1, 1) for _ in range(5) ], \n",
    "        \"color\": random.choice(colors), \n",
    "        \"tag\": random.randint(1000, 9999) \n",
    "    } for i in range(500) ]\n",
    "\n",
    "for i in data:\n",
    "    i[\"color_tag\"] = \"{}_{}\".format(i[\"color\"], i[\"tag\"])\n",
    "\n",
    "res = client.insert(\n",
    "    collection_name=\"quick_setup\",\n",
    "    data=data,\n",
    "    partition_name=\"partitionA\"\n",
    ")\n",
    "\n",
    "# print(res)"
   ]
  },
  {
   "cell_type": "code",
   "execution_count": 54,
   "id": "e8e50534",
   "metadata": {},
   "outputs": [],
   "source": [
    "# 7. Insert 300 entities in partition B\n",
    "data = [ {\n",
    "        \"id\": i + 1500, \n",
    "        \"vector\": [ random.uniform(-1, 1) for _ in range(5) ], \n",
    "        \"color\": random.choice(colors), \n",
    "        \"tag\": random.randint(1000, 9999) \n",
    "    } for i in range(300) ]\n",
    "\n",
    "for i in data:\n",
    "    i[\"color_tag\"] = \"{}_{}\".format(i[\"color\"], i[\"tag\"])\n",
    "\n",
    "res = client.insert(\n",
    "    collection_name=\"quick_setup\",\n",
    "    data=data,\n",
    "    partition_name=\"partitionB\"\n",
    ")\n",
    "\n",
    "# print(res)"
   ]
  },
  {
   "cell_type": "markdown",
   "id": "6575d2fa",
   "metadata": {},
   "source": [
    "## 按ID获取实体"
   ]
  },
  {
   "cell_type": "markdown",
   "id": "0f467e9f",
   "metadata": {},
   "source": [
    "如果你知道你感兴趣的实体的ID，你可以使用`get()`方法。"
   ]
  },
  {
   "cell_type": "code",
   "execution_count": 55,
   "id": "1734541e",
   "metadata": {},
   "outputs": [
    {
     "name": "stdout",
     "output_type": "stream",
     "text": [
      "[{'color': 'blue', 'tag': 7010, 'color_tag': 'blue_7010', 'id': 0, 'vector': [0.09511547, -0.9058443, -0.45423168, -0.17148939, 0.84462625]}, {'color': 'yellow', 'tag': 6317, 'color_tag': 'yellow_6317', 'id': 1, 'vector': [0.56778526, -0.19224258, -0.5964742, -0.48585027, -0.6893527]}, {'color': 'pink', 'tag': 4596, 'color_tag': 'pink_4596', 'id': 2, 'vector': [0.4412155, -0.39091882, 0.77029777, 0.8460942, -0.03598112]}]\n"
     ]
    }
   ],
   "source": [
    "# 4. Get entities by ID\n",
    "res = client.get(\n",
    "    collection_name=\"quick_setup\",\n",
    "    ids=[0, 1, 2]\n",
    ")\n",
    "\n",
    "print(res)"
   ]
  },
  {
   "cell_type": "markdown",
   "id": "fa04d509",
   "metadata": {},
   "source": [
    "### 从分区获取实体"
   ]
  },
  {
   "cell_type": "markdown",
   "id": "4f46ef0c",
   "metadata": {},
   "source": [
    "您还可以从特定分区获取实体。"
   ]
  },
  {
   "cell_type": "code",
   "execution_count": 56,
   "id": "35f58594",
   "metadata": {},
   "outputs": [
    {
     "name": "stdout",
     "output_type": "stream",
     "text": [
      "[{'color': 'blue', 'tag': 7010, 'color_tag': 'blue_7010', 'id': 0, 'vector': [0.09511547, -0.9058443, -0.45423168, -0.17148939, 0.84462625]}, {'color': 'yellow', 'tag': 6317, 'color_tag': 'yellow_6317', 'id': 1, 'vector': [0.56778526, -0.19224258, -0.5964742, -0.48585027, -0.6893527]}, {'color': 'pink', 'tag': 4596, 'color_tag': 'pink_4596', 'id': 2, 'vector': [0.4412155, -0.39091882, 0.77029777, 0.8460942, -0.03598112]}]\n"
     ]
    }
   ],
   "source": [
    "# 5. Get entities from partitions\n",
    "res = client.get(\n",
    "    collection_name=\"quick_setup\",\n",
    "    ids=[0, 1, 2],\n",
    "    partition_names=[\"_default\"]\n",
    ")\n",
    "\n",
    "print(res)"
   ]
  },
  {
   "cell_type": "markdown",
   "id": "5ff927eb",
   "metadata": {},
   "source": [
    "## 使用基本运算符"
   ]
  },
  {
   "cell_type": "markdown",
   "id": "83dc335a",
   "metadata": {},
   "source": [
    "在本节中，您将找到如何在标量过滤中使用基本运算符的示例。您也可以将这些过滤器应用于[矢量搜索](https://milvus.io/docs/single-vector-search.md#Filtered-search)和[数据删除](https://milvus.io/docs/insert-update-delete.md#Delete-entities)。\n",
    "\n",
    "- 过滤标记值介于1，000到1，500之间的图元。\n"
   ]
  },
  {
   "cell_type": "code",
   "execution_count": 57,
   "id": "c8f693b0",
   "metadata": {},
   "outputs": [
    {
     "data": {
      "text/plain": [
       "[{'color_tag': 'green_1024', 'id': 29}, {'color_tag': 'blue_1272', 'id': 32}]"
      ]
     },
     "execution_count": 57,
     "metadata": {},
     "output_type": "execute_result"
    }
   ],
   "source": [
    "res = client.query(\n",
    "  collection_name=\"quick_setup\",\n",
    "  # highlight-start\n",
    "  filter=\"1000 < tag < 1500\",\n",
    "  output_fields=[\"color_tag\"],\n",
    "  # highlight-end\n",
    "  limit=3\n",
    ")\n",
    "res"
   ]
  },
  {
   "cell_type": "markdown",
   "id": "bfa6cbc2",
   "metadata": {},
   "source": [
    "- 过滤实体，并将其颜色值设置为红色。"
   ]
  },
  {
   "cell_type": "code",
   "execution_count": 58,
   "id": "0608ba05",
   "metadata": {},
   "outputs": [
    {
     "data": {
      "text/plain": [
       "[{'color_tag': 'brown_7123', 'id': 10}, {'color_tag': 'brown_3260', 'id': 14}]"
      ]
     },
     "execution_count": 58,
     "metadata": {},
     "output_type": "execute_result"
    }
   ],
   "source": [
    "res = client.query(\n",
    "      collection_name=\"quick_setup\",\n",
    "      # highlight-start\n",
    "      filter='color == \"brown\"',\n",
    "      output_fields=[\"color_tag\"],\n",
    "      # highlight-end\n",
    "      limit=3\n",
    "  )\n",
    "res"
   ]
  },
  {
   "cell_type": "markdown",
   "id": "3d3543da",
   "metadata": {},
   "source": [
    "- 过滤颜色值未设置为绿色和紫色的图元。\n"
   ]
  },
  {
   "cell_type": "code",
   "execution_count": 59,
   "id": "98a8c06d",
   "metadata": {},
   "outputs": [
    {
     "data": {
      "text/plain": [
       "[{'color_tag': 'blue_7010', 'id': 0}, {'color_tag': 'yellow_6317', 'id': 1}]"
      ]
     },
     "execution_count": 59,
     "metadata": {},
     "output_type": "execute_result"
    }
   ],
   "source": [
    "res = client.query(\n",
    "  collection_name=\"quick_setup\",\n",
    "  # highlight-start\n",
    "  filter='color not in [\"green\", \"purple\"]',\n",
    "  output_fields=[\"color_tag\"],\n",
    "  # highlight-end\n",
    "  limit=3\n",
    ")\n",
    "res"
   ]
  },
  {
   "cell_type": "markdown",
   "id": "33ca8184",
   "metadata": {},
   "source": [
    "- 过滤颜色标签以红色开头的文章。"
   ]
  },
  {
   "cell_type": "code",
   "execution_count": 60,
   "id": "52f23a12",
   "metadata": {},
   "outputs": [
    {
     "data": {
      "text/plain": [
       "[{'color_tag': 'red_8538', 'id': 12}, {'color_tag': 'red_4840', 'id': 31}]"
      ]
     },
     "execution_count": 60,
     "metadata": {},
     "output_type": "execute_result"
    }
   ],
   "source": [
    "res = client.query(\n",
    "    collection_name=\"quick_setup\",\n",
    "    # highlight-start\n",
    "    filter='color_tag like \"red%\"',\n",
    "    output_fields=[\"color_tag\"],\n",
    "    # highlight-end\n",
    "    limit=3\n",
    ")\n",
    "res"
   ]
  },
  {
   "cell_type": "markdown",
   "id": "a8479a2a",
   "metadata": {},
   "source": [
    "- 过滤颜色设置为红色且标记值在1，000到1，500范围内的图元。"
   ]
  },
  {
   "cell_type": "code",
   "execution_count": 61,
   "id": "e7937455",
   "metadata": {},
   "outputs": [
    {
     "data": {
      "text/plain": [
       "[{'id': 188, 'color_tag': 'red_1426'}, {'id': 264, 'color_tag': 'red_1412'}]"
      ]
     },
     "execution_count": 61,
     "metadata": {},
     "output_type": "execute_result"
    }
   ],
   "source": [
    "res = client.query(\n",
    "      collection_name=\"quick_setup\",\n",
    "      # highlight-start\n",
    "      filter='(color == \"red\") and (1000 < tag < 1500)',\n",
    "      output_fields=[\"color_tag\"],\n",
    "      # highlight-end\n",
    "      limit=3\n",
    "  )\n",
    "res"
   ]
  },
  {
   "cell_type": "markdown",
   "id": "4526a6d7",
   "metadata": {},
   "source": [
    "## 使用高级运算符\n",
    "\n",
    "在本节中，您将找到如何在标量过滤中使用高级运算符的示例。您也可以将这些过滤器应用于矢量搜索和数据删除。\n",
    "\n",
    "### 计数实体\n",
    "\n",
    "- 计算集合中实体的总数。\n"
   ]
  },
  {
   "cell_type": "code",
   "execution_count": 62,
   "id": "0448eae2",
   "metadata": {},
   "outputs": [
    {
     "data": {
      "text/plain": [
       "[{'count(*)': 3800}]"
      ]
     },
     "execution_count": 62,
     "metadata": {},
     "output_type": "execute_result"
    }
   ],
   "source": [
    "res = client.query(\n",
    "  collection_name=\"quick_setup\",\n",
    "  # highlight-start\n",
    "  output_fields=[\"count(*)\"]\n",
    "  # highlight-end\n",
    ")\n",
    "res"
   ]
  },
  {
   "cell_type": "markdown",
   "id": "ac529920",
   "metadata": {},
   "source": [
    "- 计算特定分区中的实体总数。\n"
   ]
  },
  {
   "cell_type": "code",
   "execution_count": 63,
   "id": "f21b3878",
   "metadata": {},
   "outputs": [
    {
     "data": {
      "text/plain": [
       "[{'count(*)': 3800}]"
      ]
     },
     "execution_count": 63,
     "metadata": {},
     "output_type": "execute_result"
    }
   ],
   "source": [
    "res = client.query(\n",
    "      collection_name=\"quick_setup\",\n",
    "      # highlight-start\n",
    "      output_fields=[\"count(*)\"],\n",
    "      partition_name=\"partitionA\"\n",
    "      # highlight-end\n",
    "  )\n",
    "res"
   ]
  },
  {
   "cell_type": "code",
   "execution_count": 64,
   "id": "72d72e5b",
   "metadata": {},
   "outputs": [
    {
     "data": {
      "text/plain": [
       "[{'count(*)': 3800}]"
      ]
     },
     "execution_count": 64,
     "metadata": {},
     "output_type": "execute_result"
    }
   ],
   "source": [
    "res = client.query(\n",
    "      collection_name=\"quick_setup\",\n",
    "      # highlight-start\n",
    "      output_fields=[\"count(*)\"],\n",
    "      partition_name=\"partitionB\"\n",
    "      # highlight-end\n",
    "  )\n",
    "res"
   ]
  },
  {
   "cell_type": "markdown",
   "id": "be86c8f4",
   "metadata": {},
   "source": [
    "- 统计与筛选条件匹配的实体数"
   ]
  },
  {
   "cell_type": "code",
   "execution_count": 65,
   "id": "7e98544c",
   "metadata": {},
   "outputs": [
    {
     "data": {
      "text/plain": [
       "[{'count(*)': 0}]"
      ]
     },
     "execution_count": 65,
     "metadata": {},
     "output_type": "execute_result"
    }
   ],
   "source": [
    "res = client.query(\n",
    "      collection_name=\"quick_setup\",\n",
    "      # highlight-start\n",
    "      filter='(publication == \"Towards Data Science\") and ((claps > 1500 and responses > 15) or (10 < reading_time < 15))',\n",
    "      output_fields=[\"count(*)\"],\n",
    "      # highlight-end\n",
    "  )\n",
    "res"
   ]
  },
  {
   "cell_type": "markdown",
   "id": "1c0b9b1a",
   "metadata": {},
   "source": [
    "\n",
    "\n",
    "## 标量滤波器参考\n",
    "\n",
    "### 基础运营商\n",
    "\n",
    "布尔表达式始终是由操作符连接的字段名称组成的字符串。在本节中，您将了解有关基本运算符的更多信息。\n",
    "\n",
    "| **操作者** | **描述**                                                     |\n",
    "| :--------- | :----------------------------------------------------------- |\n",
    "| add (&&)   | 如果两个操作数都为true，则为True                             |\n",
    "| or (\\|\\|)  | 如果任一操作数为true，则返回True                             |\n",
    "| +，-，*，/ | 加减乘除                                                     |\n",
    "| ***\\***    | 指数                                                         |\n",
    "| **%**      | 模量                                                         |\n",
    "| <、>       | 小于，大于                                                   |\n",
    "| ==，！=    | 等于，不等于                                                 |\n",
    "| <=，>=     | 小于等于，大于等于                                           |\n",
    "| not         | 反转给定条件的结果。                                         |\n",
    "| like        | 将一个值与使用通配符的类似值进行比较。 例如，“prefix%”匹配以“prefix”开始的字符串。 |\n",
    "| in         | 测试表达式是否与值列表中的任何值匹配。                       |\n",
    "\n",
    "### 高级操作\n",
    "\n",
    "- `count(*)`\n",
    "\n",
    "  计算集合中实体的确切数目。将此字段用作输出字段，以获取集合或分区中实体的确切数量。\n",
    "\n",
    "  **注意到**\n",
    "\n",
    "  这适用于加载的集合。您应该将其用作唯一的输出字段。"
   ]
  },
  {
   "cell_type": "markdown",
   "id": "e07c787f",
   "metadata": {},
   "source": [
    "------"
   ]
  },
  {
   "cell_type": "markdown",
   "id": "c53c6493",
   "metadata": {},
   "source": [
    "# 关于Iterator"
   ]
  },
  {
   "cell_type": "markdown",
   "id": "655d810b",
   "metadata": {},
   "source": [
    "Milvus提供了搜索和查询迭代器，用于迭代具有大量实体的结果。\n"
   ]
  },
  {
   "cell_type": "markdown",
   "id": "6dbeeea7",
   "metadata": {},
   "source": [
    "## 概述"
   ]
  },
  {
   "cell_type": "markdown",
   "id": "d487fcc1",
   "metadata": {},
   "source": [
    "迭代器是功能强大的工具，可帮助您使用主键值和布尔表达式在大型数据集中导航。这可以显著改善您检索数据的方式。与偏移量和限制参数的传统使用不同，迭代器提供了一种更具可伸缩性的解决方案，这些参数可能会随着时间的推移而变得效率低下。\n"
   ]
  },
  {
   "cell_type": "markdown",
   "id": "04bbf728",
   "metadata": {},
   "source": [
    "### 使用迭代器的好处\n",
    "\n",
    "- 简单：消除复杂的偏移和限制设置。\n",
    "- 效率：通过只获取需要的数据来提供可伸缩的数据检索。\n",
    "- 一致性：使用布尔过滤器确保数据集大小一致。\n",
    "\n",
    "**注意到**\n",
    "\n",
    "- 此功能适用于Milvus 2.3.x或更高版本。\n",
    "- 此页面上的代码片段使用新[的MilvusClient](https://milvus.io/api-reference/pymilvus/v2.4.x/About.md)（Python）与Milvus交互。其他语言的新MilvusClient SDK将在未来的更新中发布。\n"
   ]
  },
  {
   "cell_type": "markdown",
   "id": "cd40e95a",
   "metadata": {},
   "source": [
    "## 筹备工作\n",
    "\n",
    "以下步骤重新调整代码的用途，以连接到Milvus，快速设置集合，并将超过10，000个随机生成的实体插入到集合中。\n",
    "\n",
    "### 步骤1：创建收藏"
   ]
  },
  {
   "cell_type": "code",
   "execution_count": 66,
   "id": "09089aba",
   "metadata": {},
   "outputs": [],
   "source": [
    "from pymilvus import MilvusClient\n",
    "\n",
    "# 1. Set up a Milvus client\n",
    "client = MilvusClient(\n",
    "    uri=\"http://localhost:19530\"\n",
    ")\n",
    "\n",
    "if client.has_collection(\"quick_setup\"):\n",
    "    client.drop_collection(\"quick_setup\")\n",
    "\n",
    "# 2. Create a collection\n",
    "client.create_collection(\n",
    "    collection_name=\"quick_setup\",\n",
    "    dimension=5,\n",
    ")"
   ]
  },
  {
   "cell_type": "markdown",
   "id": "17636fb5",
   "metadata": {},
   "source": [
    "### 步骤2：插入随机生成的实体"
   ]
  },
  {
   "cell_type": "code",
   "execution_count": 67,
   "id": "95a714f5",
   "metadata": {},
   "outputs": [
    {
     "name": "stdout",
     "output_type": "stream",
     "text": [
      "{'id': 0, 'vector': [0.7454548690387337, -0.6534701931393274, 0.8867624550293634, 0.9867488810367115, -0.7136163936475912], 'color': 'pink', 'tag': 3096, 'color_tag': 'pink_3096'}\n"
     ]
    }
   ],
   "source": [
    "# 3. Insert randomly generated vectors \n",
    "colors = [\"green\", \"blue\", \"yellow\", \"red\", \"black\", \"white\", \"purple\", \"pink\", \"orange\", \"brown\", \"grey\"]\n",
    "data = [ {\n",
    "        \"id\": i, \n",
    "        \"vector\": [ random.uniform(-1, 1) for _ in range(5) ], \n",
    "        \"color\": random.choice(colors), \n",
    "        \"tag\": random.randint(1000, 9999) \n",
    "    } for i in range(10000) ]\n",
    "\n",
    "for i in data:\n",
    "    i[\"color_tag\"] = \"{}_{}\".format(i[\"color\"], i[\"tag\"])\n",
    "\n",
    "print(data[0])"
   ]
  },
  {
   "cell_type": "code",
   "execution_count": 69,
   "id": "931350e8",
   "metadata": {},
   "outputs": [],
   "source": [
    "# 4. Insert entities to the collection\n",
    "res = client.insert(\n",
    "    collection_name=\"quick_setup\",\n",
    "    data=data\n",
    ")\n",
    "\n",
    "# print(res)"
   ]
  },
  {
   "cell_type": "markdown",
   "id": "f26c859c",
   "metadata": {},
   "source": [
    "## 使用迭代器搜索\n",
    "\n",
    "迭代器使相似性搜索更具可扩展性。要使用迭代器进行搜索，请执行以下操作：\n",
    "\n",
    "1. 初始化搜索迭代器以定义搜索参数和输出字段。\n",
    "2. 在循环中使用next（）方法对搜索结果进行分页。\n",
    "   - 如果该方法返回空数组，则循环结束，不再有可用页。\n",
    "   - 所有结果都带有指定的输出字段。\n",
    "3. 在检索完所有数据后，手动调用close（）方法关闭迭代器。"
   ]
  },
  {
   "cell_type": "code",
   "execution_count": 71,
   "id": "ae2179b1",
   "metadata": {},
   "outputs": [],
   "source": [
    "from pymilvus import Collection\n",
    "\n",
    "# 1. Get the prepared collection\n",
    "collection = Collection(\"quick_setup\")\n",
    "\n",
    "# 2. Set up the search parameters\n",
    "search_params = {\n",
    "    \"metric_type\": \"COSINE\",\n",
    "    \"params\": {}\n",
    "}\n",
    "\n",
    "# 3. Initialize a search iterator\n",
    "iterator = collection.search_iterator(\n",
    "    data=[[0.3580376395471989, -0.6023495712049978, 0.18414012509913835, -0.26286205330961354, 0.9029438446296592]],\n",
    "    anns_field=\"vector\",\n",
    "    batch_size=10, # Controls the size of the return each time you call next()\n",
    "    param=search_params,\n",
    "    output_fields=[\"color_tag\"]\n",
    ")\n",
    "\n",
    "# 4. Iterate the search results\n",
    "results = []"
   ]
  },
  {
   "cell_type": "code",
   "execution_count": 72,
   "id": "a5790672",
   "metadata": {},
   "outputs": [
    {
     "name": "stdout",
     "output_type": "stream",
     "text": [
      "10000\n",
      "[id: 1385, distance: 0.9786712527275085, entity: {'color_tag': 'green_1704'}, id: 7508, distance: 0.966649055480957, entity: {'color_tag': 'yellow_4739'}, id: 9293, distance: 0.964911937713623, entity: {'color_tag': 'orange_3963'}]\n"
     ]
    }
   ],
   "source": [
    "while True:\n",
    "    result = iterator.next()\n",
    "    if len(result) == 0:\n",
    "        iterator.close()\n",
    "        break;\n",
    "        \n",
    "    results.extend(result)\n",
    "    \n",
    "# 5. Check the search results\n",
    "print(len(results))\n",
    "\n",
    "print(results[:3])"
   ]
  },
  {
   "cell_type": "markdown",
   "id": "08c3d6bd",
   "metadata": {},
   "source": [
    "## 使用迭代器查询"
   ]
  },
  {
   "cell_type": "code",
   "execution_count": 74,
   "id": "3a497f5f",
   "metadata": {},
   "outputs": [
    {
     "name": "stdout",
     "output_type": "stream",
     "text": [
      "0\n",
      "[]\n"
     ]
    }
   ],
   "source": [
    "# 6. Initialize a query iterator\n",
    "iterator = collection.query_iterator(\n",
    "    batch_size=10, # Controls the size of the return each time you call next()\n",
    "    expr=\"color_tag like \\\"brown_8\\\"\",\n",
    "    output_fields=[\"color_tag\"]\n",
    ")\n",
    "\n",
    "# 7. Iterator the query results\n",
    "results = []\n",
    "\n",
    "while True:\n",
    "    result = iterator.next()\n",
    "    if len(result) == 0:\n",
    "        iterator.close()\n",
    "        break;\n",
    "        \n",
    "    results.extend(result)\n",
    "    \n",
    "# 8. Check the search results\n",
    "print(len(results))\n",
    "\n",
    "print(results[:3])"
   ]
  },
  {
   "cell_type": "markdown",
   "id": "240f5ba1",
   "metadata": {},
   "source": [
    "------"
   ]
  }
 ],
 "metadata": {
  "kernelspec": {
   "display_name": "Python 3 (ipykernel)",
   "language": "python",
   "name": "python3"
  },
  "language_info": {
   "codemirror_mode": {
    "name": "ipython",
    "version": 3
   },
   "file_extension": ".py",
   "mimetype": "text/x-python",
   "name": "python",
   "nbconvert_exporter": "python",
   "pygments_lexer": "ipython3",
   "version": "3.10.11"
  },
  "nbTranslate": {
   "displayLangs": [
    "*"
   ],
   "hotkey": "alt-t",
   "langInMainMenu": true,
   "sourceLang": "en",
   "targetLang": "fr",
   "useGoogleTranslate": true
  },
  "toc": {
   "base_numbering": 1,
   "nav_menu": {},
   "number_sections": true,
   "sideBar": true,
   "skip_h1_title": false,
   "title_cell": "Table of Contents",
   "title_sidebar": "Contents",
   "toc_cell": false,
   "toc_position": {},
   "toc_section_display": true,
   "toc_window_display": false
  }
 },
 "nbformat": 4,
 "nbformat_minor": 5
}
