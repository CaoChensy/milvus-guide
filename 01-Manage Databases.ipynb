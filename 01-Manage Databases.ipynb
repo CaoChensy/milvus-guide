{
 "cells": [
  {
   "cell_type": "markdown",
   "id": "8b4345ea",
   "metadata": {},
   "source": [
    "# 管理数据库"
   ]
  },
  {
   "cell_type": "markdown",
   "id": "cc128df3",
   "metadata": {},
   "source": [
    ">与传统的数据库引擎类似，您也可以在Milvus中创建数据库，并将权限分配给某些用户来管理它们。然后，这些用户有权管理数据库中的集合。Milvus集群最多支持64个数据库。"
   ]
  },
  {
   "cell_type": "markdown",
   "id": "2e0d8c66",
   "metadata": {},
   "source": [
    "## 创建数据库"
   ]
  },
  {
   "cell_type": "markdown",
   "id": "5f62043a",
   "metadata": {},
   "source": [
    "要创建数据库，您需要首先连接到Milvus集群并为其准备一个名称："
   ]
  },
  {
   "cell_type": "code",
   "execution_count": null,
   "id": "86499f15",
   "metadata": {},
   "outputs": [],
   "source": [
    "from pymilvus import connections, db\n",
    "\n",
    "conn = connections.connect(host=\"127.0.0.1\", port=19530)\n",
    "\n",
    "database = db.create_database(\"book\")"
   ]
  },
  {
   "cell_type": "markdown",
   "id": "6b97c6b2",
   "metadata": {},
   "source": [
    "## 使用数据库"
   ]
  },
  {
   "cell_type": "markdown",
   "id": "6f869997",
   "metadata": {},
   "source": [
    "Milvus集群附带一个名为\"default\"的默认数据库。除非另外指定，否则集合将在默认数据库中创建。\n",
    "\n",
    "要更改默认数据库，请执行以下操作："
   ]
  },
  {
   "cell_type": "code",
   "execution_count": null,
   "id": "d8800fd4",
   "metadata": {},
   "outputs": [],
   "source": [
    "db.using_database(\"book\")"
   ]
  },
  {
   "cell_type": "markdown",
   "id": "8eb477b3",
   "metadata": {},
   "source": [
    "您还可以设置连接到Milvus集群时使用的数据库，如下所示："
   ]
  },
  {
   "cell_type": "code",
   "execution_count": null,
   "id": "e0d79c6c",
   "metadata": {},
   "outputs": [],
   "source": [
    "conn = connections.connect(\n",
    "    host=\"127.0.0.1\",\n",
    "    port=\"19530\",\n",
    "    db_name=\"default\"\n",
    ")"
   ]
  },
  {
   "cell_type": "markdown",
   "id": "05054f1a",
   "metadata": {},
   "source": [
    "## 列出数据库"
   ]
  },
  {
   "cell_type": "markdown",
   "id": "3f0aa6e5",
   "metadata": {},
   "source": [
    "要查找Milvus集群中的所有现有数据库，请执行以下操作："
   ]
  },
  {
   "cell_type": "code",
   "execution_count": null,
   "id": "c7404042",
   "metadata": {},
   "outputs": [],
   "source": [
    "db.list_database()"
   ]
  },
  {
   "cell_type": "markdown",
   "id": "62b7b88d",
   "metadata": {},
   "source": [
    "## Drop database"
   ]
  },
  {
   "cell_type": "markdown",
   "id": "0a624c97",
   "metadata": {},
   "source": [
    "要删除一个数据库，必须先删除它的所有集合。否则，丢弃失败。"
   ]
  },
  {
   "cell_type": "code",
   "execution_count": null,
   "id": "f53116ba",
   "metadata": {},
   "outputs": [],
   "source": [
    "db.drop_database(\"book\")"
   ]
  },
  {
   "cell_type": "code",
   "execution_count": null,
   "id": "08d1fa56",
   "metadata": {},
   "outputs": [],
   "source": [
    "db.list_database()"
   ]
  },
  {
   "cell_type": "markdown",
   "id": "b332346e",
   "metadata": {},
   "source": [
    "## 将RBAC用于数据库"
   ]
  },
  {
   "cell_type": "markdown",
   "id": "1739783a",
   "metadata": {},
   "source": [
    "ilvus 是一个开源的向量数据库，用于存储和检索大规模高维向量数据。RBAC 在 Milvus 中的作用是限制用户对 Milvus 数据库和操作的访问权限，以确保数据的安全性和保密性。\n",
    "\n",
    "通过 RBAC，可以定义不同的角色和权限，将用户分配到不同的角色中，从而控制他们对 Milvus 中的资源和操作的访问。例如，可以创建一个管理员角色，拥有对所有资源和操作的完全权限；同时，可以创建一个只读用户角色，仅允许对数据进行查询而不允许进行写入操作。\n",
    "\n",
    "RBAC 在 Milvus 中可以通过配置和管理用户、角色和权限来实现。管理员可以创建、编辑和删除角色，分配角色给用户，并为每个角色分配相应的权限。这样，可以根据具体的需求和安全策略，灵活地控制用户对 Milvus 数据库的访问权限。"
   ]
  },
  {
   "cell_type": "markdown",
   "id": "bf8b26a4",
   "metadata": {},
   "source": [
    "RBAC还涵盖数据库操作并确保向前兼容性。Permission API（授权/撤销/列表授权）中的单词数据库具有以下含义："
   ]
  },
  {
   "cell_type": "markdown",
   "id": "3126842e",
   "metadata": {},
   "source": [
    "- 如果Milvus连接和Permission API调用都没有指定db_name，则数据库引用默认数据库。\n",
    "- 如果一个Milvus连接指定了一个db_name，但之后的Permission API调用没有指定，那么database引用的数据库的名称是在Milvus连接中指定的。\n",
    "- 如果在Milvus连接上进行Permission API调用，无论是否指定了db_name，数据库都引用其名称在Permission API调用中指定的数据库。\n",
    "\n",
    "\n",
    "下面的代码片段在下面列出的块中共享。"
   ]
  },
  {
   "cell_type": "code",
   "execution_count": null,
   "id": "438c7916",
   "metadata": {},
   "outputs": [],
   "source": [
    "from pymilvus import connections, Role\n",
    "\n",
    "_HOST = '127.0.0.1'\n",
    "_PORT = '19530'\n",
    "_ROOT = \"root\"\n",
    "_ROOT_PASSWORD = \"Milvus\"\n",
    "_ROLE_NAME = \"test_role\"\n",
    "_PRIVILEGE_INSERT = \"Insert\"\n",
    "\n",
    "def connect_to_milvus(db_name=\"default\"):\n",
    "    print(f\"connect to milvus\\n\")\n",
    "    connections.connect(host=_HOST, port=_PORT, user=_ROOT, password=_ROOT_PASSWORD, db_name=db_name)"
   ]
  },
  {
   "cell_type": "markdown",
   "id": "74dd0723",
   "metadata": {},
   "source": [
    "如果Milvus连接和Permission API调用都没有指定db_name，则数据库引用默认数据库。"
   ]
  },
  {
   "cell_type": "code",
   "execution_count": null,
   "id": "6703744b",
   "metadata": {},
   "outputs": [],
   "source": [
    "connect_to_milvus()\n",
    "role = Role(_ROLE_NAME)\n",
    "# role.create()"
   ]
  },
  {
   "cell_type": "code",
   "execution_count": null,
   "id": "b28a7271",
   "metadata": {},
   "outputs": [],
   "source": [
    "connect_to_milvus()\n",
    "role.grant(\"Collection\", \"*\", _PRIVILEGE_INSERT)\n",
    "\n",
    "print(role.list_grants())\n",
    "print(role.list_grant(\"Collection\", \"*\"))\n",
    "\n",
    "role.revoke(\"Collection\", \"*\", privilege=_PRIVILEGE_INSERT)\n",
    "\n",
    "print(role.list_grants())\n",
    "print(role.list_grant(\"Collection\", \"*\"))"
   ]
  },
  {
   "cell_type": "markdown",
   "id": "f0045718",
   "metadata": {},
   "source": [
    "如果一个Milvus连接指定了一个db_name，但之后的Permission API调用没有指定，那么database引用的数据库的名称是在Milvus连接中指定的。\n"
   ]
  },
  {
   "cell_type": "code",
   "execution_count": null,
   "id": "84dcea15",
   "metadata": {},
   "outputs": [],
   "source": [
    "from pymilvus import connections, db\n",
    "\n",
    "conn = connections.connect(host=\"127.0.0.1\", port=19530)\n",
    "database = db.create_database(\"foo\")"
   ]
  },
  {
   "cell_type": "code",
   "execution_count": null,
   "id": "08925bea",
   "metadata": {},
   "outputs": [],
   "source": [
    "# NOTE: please make sure the 'foo' db has been created\n",
    "connect_to_milvus(db_name=\"foo\")\n",
    "# This role will have the insert permission of all collections under foo db,\n",
    "# excluding the insert permissions of collections under other dbs\n",
    "role.grant(\"Collection\", \"*\", _PRIVILEGE_INSERT)\n",
    "print(role.list_grants())\n",
    "print(role.list_grant(\"Collection\", \"*\"))\n",
    "role.revoke(\"Collection\", \"*\", _PRIVILEGE_INSERT)\n",
    "print(role.list_grants())\n",
    "print(role.list_grant(\"Collection\", \"*\"))"
   ]
  },
  {
   "cell_type": "markdown",
   "id": "97b05a27",
   "metadata": {},
   "source": [
    "如果在Milvus连接上进行Permission API调用，无论是否指定了db_name，数据库都引用其名称在Permission API调用中指定的数据库。"
   ]
  },
  {
   "cell_type": "code",
   "execution_count": null,
   "id": "b47f8044",
   "metadata": {},
   "outputs": [],
   "source": [
    "# NOTE: please make sure the 'foo' db has been created\n",
    "db_name = \"foo\"\n",
    "connect_to_milvus()\n",
    "role.grant(\"Collection\", \"*\", _PRIVILEGE_INSERT, db_name=db_name)\n",
    "print(role.list_grants(db_name=db_name))\n",
    "print(role.list_grant(\"Collection\", \"*\", db_name=db_name))\n",
    "role.revoke(\"Collection\", \"*\", _PRIVILEGE_INSERT, db_name=db_name)"
   ]
  },
  {
   "cell_type": "code",
   "execution_count": null,
   "id": "d5aab20e",
   "metadata": {},
   "outputs": [],
   "source": [
    "db.drop_database(\"foo\")"
   ]
  },
  {
   "cell_type": "markdown",
   "id": "63f1ca24",
   "metadata": {},
   "source": [
    "----"
   ]
  }
 ],
 "metadata": {
  "kernelspec": {
   "display_name": "Python 3 (ipykernel)",
   "language": "python",
   "name": "python3"
  },
  "language_info": {
   "codemirror_mode": {
    "name": "ipython",
    "version": 3
   },
   "file_extension": ".py",
   "mimetype": "text/x-python",
   "name": "python",
   "nbconvert_exporter": "python",
   "pygments_lexer": "ipython3",
   "version": "3.10.11"
  },
  "nbTranslate": {
   "displayLangs": [
    "*"
   ],
   "hotkey": "alt-t",
   "langInMainMenu": true,
   "sourceLang": "en",
   "targetLang": "fr",
   "useGoogleTranslate": true
  },
  "toc": {
   "base_numbering": 1,
   "nav_menu": {},
   "number_sections": true,
   "sideBar": true,
   "skip_h1_title": false,
   "title_cell": "Table of Contents",
   "title_sidebar": "Contents",
   "toc_cell": false,
   "toc_position": {},
   "toc_section_display": true,
   "toc_window_display": false
  }
 },
 "nbformat": 4,
 "nbformat_minor": 5
}
