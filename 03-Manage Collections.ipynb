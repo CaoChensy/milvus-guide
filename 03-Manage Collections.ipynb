{
 "cells": [
  {
   "cell_type": "markdown",
   "id": "737c72c0",
   "metadata": {},
   "source": [
    "# Manage Collections"
   ]
  },
  {
   "cell_type": "markdown",
   "id": "bd783ea6",
   "metadata": {},
   "source": [
    "> 本指南指导您使用所选的SDK创建和管理集合。"
   ]
  },
  {
   "cell_type": "markdown",
   "id": "486c8614",
   "metadata": {},
   "source": [
    "## 在开始之前"
   ]
  },
  {
   "cell_type": "markdown",
   "id": "55031f08",
   "metadata": {},
   "source": [
    "* 您已经安装了Milvus单机版或Milvus集群版。\n",
    "* 您已安装首选SDK。您可以选择各种语言，包括Python，Java，Go和Node.js。"
   ]
  },
  {
   "cell_type": "markdown",
   "id": "f950509e",
   "metadata": {},
   "source": [
    "## 概述"
   ]
  },
  {
   "cell_type": "markdown",
   "id": "3c9987cd",
   "metadata": {},
   "source": [
    "在Milvus中，您将向量嵌入存储在集合中。集合中的所有向量嵌入共享相同的维度和距离度量来测量相似性。\n",
    "\n",
    "Milvus集合支持动态字段（即，模式中未预定义的字段）和主键的自动递增。\n",
    "\n",
    "为了适应不同的偏好，Milvus提供了两种创建集合的方法。一个提供快速设置，而另一个允许对集合模式和索引参数进行详细的自定义。\n",
    "\n",
    "此外，您可以在必要时查看、加载、释放和删除集合。\n",
    "\n",
    "此页面上的代码片段使用新的MilvusClient（Python）与Milvus交互。其他语言的新MilvusClient SDK将在未来的更新中发布。"
   ]
  },
  {
   "cell_type": "markdown",
   "id": "f27b72b7",
   "metadata": {},
   "source": [
    "## 创建集合\n"
   ]
  },
  {
   "cell_type": "markdown",
   "id": "11e45b78",
   "metadata": {},
   "source": [
    "您可以通过以下任一方式创建集合："
   ]
  },
  {
   "cell_type": "markdown",
   "id": "44a0a5e6",
   "metadata": {},
   "source": [
    "> 快速设置\n",
    "\n",
    "通过这种方式，您可以创建一个集合，只需给它一个名称并指定要存储在该集合中的向量嵌入的维数。有关详细信息，请参阅快速设置。\n",
    "\n",
    "> 自定义设置\n",
    "\n",
    "您可以自己决定集合的模式和索引参数，而不是让In Milvus决定集合的几乎所有内容。有关详细信息，请参阅自定义设置。"
   ]
  },
  {
   "cell_type": "markdown",
   "id": "13b9ab2c",
   "metadata": {},
   "source": [
    "### 快速设置"
   ]
  },
  {
   "cell_type": "markdown",
   "id": "7b363626",
   "metadata": {},
   "source": [
    "在人工智能行业大飞跃的背景下，大多数开发人员只需要一个简单而动态的集合就可以开始。Milvus允许使用三个参数快速设置这样的集合：\n",
    "\n",
    "* 要创建的集合的名称，\n",
    "* 要插入的向量嵌入的维数，以及\n",
    "* 度量类型，用于度量向量嵌入之间的相似性。"
   ]
  },
  {
   "cell_type": "code",
   "execution_count": null,
   "id": "d717e7a9",
   "metadata": {},
   "outputs": [],
   "source": [
    "from pymilvus import MilvusClient, DataType\n",
    "\n",
    "# 1. Set up a Milvus client\n",
    "client = MilvusClient(\n",
    "    uri=\"http://localhost:19530\"\n",
    ")\n",
    "\n",
    "collection_name = \"quick_setup\"\n",
    "if client.has_collection(collection_name):\n",
    "    client.drop_collection(collection_name)\n",
    "\n",
    "# 2. Create a collection in quick setup mode\n",
    "client.create_collection(\n",
    "    collection_name=collection_name,\n",
    "    dimension=5\n",
    ")\n",
    "\n",
    "res = client.get_load_state(\n",
    "    collection_name=collection_name\n",
    ")\n",
    "\n",
    "print(res)"
   ]
  },
  {
   "cell_type": "markdown",
   "id": "f2ccd858",
   "metadata": {},
   "source": [
    "```text\n",
    "Output\n",
    "\n",
    "{\n",
    "    \"state\": \"<LoadState: Loaded>\"\n",
    "}\n",
    "```"
   ]
  },
  {
   "cell_type": "markdown",
   "id": "4a1e4e40",
   "metadata": {},
   "source": [
    "在上面的代码中生成的集合只包含两个字段：id（作为主键）和vector（作为向量字段），默认情况下启用auto_id和enable_dynamic_field设置。\n",
    "\n",
    "* `auto_id`: 启用此设置可确保主键自动递增。在数据插入过程中不需要手动提供主键。\n",
    "\n",
    "* `enable_dynamic_field`: 启用后，除了要插入的数据中的id和vector之外，所有字段都被视为动态字段。这些附加字段作为键值对保存在名为$meta的特殊字段中。此功能允许在数据插入期间包含额外的字段。\n",
    "\n",
    "从所提供的代码中自动索引和加载的集合已准备好立即插入数据。"
   ]
  },
  {
   "cell_type": "markdown",
   "id": "97f13c5e",
   "metadata": {},
   "source": [
    "### 自定义设置"
   ]
  },
  {
   "cell_type": "markdown",
   "id": "9b81e2ae",
   "metadata": {},
   "source": [
    "您可以自己确定集合的模式和索引参数，而不是让Milvus决定集合的几乎所有内容。"
   ]
  },
  {
   "cell_type": "markdown",
   "id": "b43d31be",
   "metadata": {},
   "source": [
    "#### 步骤1：设置架构"
   ]
  },
  {
   "cell_type": "markdown",
   "id": "96aa8038",
   "metadata": {},
   "source": [
    "架构定义集合的结构。在模式中，您可以选择启用或禁用enable_dynamic_field、添加预定义字段以及为每个字段设置属性。有关概念和可用数据类型的详细解释，请参阅模式解释。"
   ]
  },
  {
   "cell_type": "code",
   "execution_count": null,
   "id": "985ddff5",
   "metadata": {},
   "outputs": [],
   "source": [
    "# 3. Create a collection in customized setup mode\n",
    "\n",
    "# 3.1. Create schema\n",
    "schema = MilvusClient.create_schema(\n",
    "    auto_id=False,\n",
    "    enable_dynamic_field=True,\n",
    ")\n",
    "\n",
    "# 3.2. Add fields to schema\n",
    "schema.add_field(field_name=\"my_id\", datatype=DataType.INT64, is_primary=True)\n",
    "schema.add_field(field_name=\"my_vector\", datatype=DataType.FLOAT_VECTOR, dim=5)"
   ]
  },
  {
   "cell_type": "markdown",
   "id": "a817f25c",
   "metadata": {},
   "source": [
    "在提供的Python代码片段中，enable_dynamic_field被设置为True，并且为主键启用了auto_id。另外，引入了vector字段，其被配置为具有768的维度，沿着包括四个标量字段，每个标量字段具有其各自的属性。"
   ]
  },
  {
   "cell_type": "markdown",
   "id": "c571a33d",
   "metadata": {},
   "source": [
    "#### 步骤2：设置索引参数"
   ]
  },
  {
   "cell_type": "markdown",
   "id": "de6b6312",
   "metadata": {},
   "source": [
    "索引参数决定了Milvus如何在集合中组织数据。您可以通过调整特定字段的metric_type和index_type来定制其索引过程。对于向量场，您可以灵活地选择COSINE、L2或IP作为metric_type。"
   ]
  },
  {
   "cell_type": "code",
   "execution_count": null,
   "id": "b9abca66",
   "metadata": {},
   "outputs": [],
   "source": [
    "# 3.3. Prepare index parameters\n",
    "index_params = client.prepare_index_params()\n",
    "\n",
    "# 3.4. Add indexes\n",
    "index_params.add_index(\n",
    "    field_name=\"my_id\",\n",
    "    index_type=\"STL_SORT\"\n",
    ")\n",
    "\n",
    "index_params.add_index(\n",
    "    field_name=\"my_vector\", \n",
    "    index_type=\"IVF_FLAT\",\n",
    "    metric_type=\"IP\",\n",
    "    params={ \"nlist\": 128 }\n",
    ")"
   ]
  },
  {
   "cell_type": "markdown",
   "id": "ead18a35",
   "metadata": {},
   "source": [
    "上面的代码片段演示了如何分别为向量字段和标量字段设置索引参数。对于向量字段，设置度量类型和索引类型。对于标量字段，仅设置索引类型。建议为向量字段和任何经常用于筛选的标量字段创建索引。"
   ]
  },
  {
   "cell_type": "markdown",
   "id": "7881ed95",
   "metadata": {},
   "source": [
    "#### 步骤3：创建集合"
   ]
  },
  {
   "cell_type": "markdown",
   "id": "5346c5df",
   "metadata": {},
   "source": [
    "您可以选择分别创建集合和索引文件，或者创建一个集合，并在创建时同时加载索引。\n",
    "\n",
    "创建一个集合，并在创建时同时加载索引。"
   ]
  },
  {
   "cell_type": "code",
   "execution_count": null,
   "id": "b994b1d8",
   "metadata": {},
   "outputs": [],
   "source": [
    "# 3.5. Create a collection with the index loaded simultaneously\n",
    "client.create_collection(\n",
    "    collection_name=\"customized_setup_1\",\n",
    "    schema=schema,\n",
    "    index_params=index_params\n",
    ")\n",
    "\n",
    "# time.sleep(5)\n",
    "\n",
    "res = client.get_load_state(\n",
    "    collection_name=\"customized_setup_1\"\n",
    ")\n",
    "\n",
    "print(res)"
   ]
  },
  {
   "cell_type": "markdown",
   "id": "083954f3",
   "metadata": {},
   "source": [
    "```text\n",
    "# Output\n",
    "#\n",
    "# {\n",
    "#     \"state\": \"<LoadState: Loaded>\"\n",
    "# }\n",
    "```"
   ]
  },
  {
   "cell_type": "markdown",
   "id": "8666226d",
   "metadata": {},
   "source": [
    "上面创建的集合将自动加载。若要了解有关加载和释放集合的更多信息，请参阅加载释放集合。"
   ]
  },
  {
   "cell_type": "markdown",
   "id": "249d2d24",
   "metadata": {},
   "source": [
    "**分别创建集合和索引文件。**"
   ]
  },
  {
   "cell_type": "code",
   "execution_count": null,
   "id": "97df3258",
   "metadata": {},
   "outputs": [],
   "source": [
    "# 3.6. Create a collection and index it separately\n",
    "client.create_collection(\n",
    "    collection_name=\"customized_setup_2\",\n",
    "    schema=schema,\n",
    ")\n",
    "\n",
    "res = client.get_load_state(\n",
    "    collection_name=\"customized_setup_2\"\n",
    ")\n",
    "\n",
    "print(res)"
   ]
  },
  {
   "cell_type": "markdown",
   "id": "00117387",
   "metadata": {},
   "source": [
    "```text\n",
    "# Output\n",
    "#\n",
    "# {\n",
    "#     \"state\": \"<LoadState: NotLoad>\"\n",
    "# }\n",
    "```"
   ]
  },
  {
   "cell_type": "markdown",
   "id": "bdda7f2b",
   "metadata": {},
   "source": [
    "上面创建的集合不会自动加载。可以按如下方式为集合创建索引。以单独的方式为集合创建索引不会自动加载集合。有关详细信息，请参阅加载释放收集。&\n"
   ]
  },
  {
   "cell_type": "code",
   "execution_count": null,
   "id": "90b5eeb4",
   "metadata": {},
   "outputs": [],
   "source": [
    "# 3.6 Create index\n",
    "client.create_index(\n",
    "    collection_name=\"customized_setup_2\",\n",
    "    index_params=index_params\n",
    ")\n",
    "\n",
    "res = client.get_load_state(\n",
    "    collection_name=\"customized_setup_2\"\n",
    ")\n",
    "\n",
    "print(res)"
   ]
  },
  {
   "cell_type": "markdown",
   "id": "9bfc24d7",
   "metadata": {},
   "source": [
    "```text\n",
    "# Output\n",
    "#\n",
    "# {\n",
    "#     \"state\": \"<LoadState: NotLoad>\"\n",
    "# }\n",
    "```"
   ]
  },
  {
   "cell_type": "markdown",
   "id": "299b1052",
   "metadata": {},
   "source": [
    "## View Collections"
   ]
  },
  {
   "cell_type": "code",
   "execution_count": null,
   "id": "fa0107de",
   "metadata": {},
   "outputs": [],
   "source": [
    "您可以按以下方式检查现有集合的详细信息："
   ]
  },
  {
   "cell_type": "code",
   "execution_count": null,
   "id": "77ddef58",
   "metadata": {},
   "outputs": [],
   "source": [
    "# 5. View Collections\n",
    "res = client.describe_collection(\n",
    "    collection_name=\"customized_setup_2\"\n",
    ")\n",
    "\n",
    "print(res)"
   ]
  },
  {
   "cell_type": "code",
   "execution_count": null,
   "id": "f2bccf95",
   "metadata": {},
   "outputs": [],
   "source": [
    "要列出所有现有集合，您可以执行以下操作："
   ]
  },
  {
   "cell_type": "code",
   "execution_count": null,
   "id": "3d6f83c8",
   "metadata": {},
   "outputs": [],
   "source": [
    "# 6. List all collection names\n",
    "res = client.list_collections()\n",
    "\n",
    "print(res)"
   ]
  },
  {
   "cell_type": "markdown",
   "id": "f3301717",
   "metadata": {},
   "source": [
    "## 装载和释放收集"
   ]
  },
  {
   "cell_type": "markdown",
   "id": "0865e428",
   "metadata": {},
   "source": [
    "在加载集合的过程中，Milvus将集合的索引文件加载到内存中。相反，当释放一个集合时，Milvus会从内存中卸载索引文件。在集合中执行搜索之前，请确保该集合已加载。\n"
   ]
  },
  {
   "cell_type": "markdown",
   "id": "8a3e637b",
   "metadata": {},
   "source": [
    "### 加载集合"
   ]
  },
  {
   "cell_type": "markdown",
   "id": "3120f8ca",
   "metadata": {},
   "source": [
    "要加载集合，请使用load_collection()方法，指定集合名称。您还可以设置replica_number来确定加载集合时在查询节点上创建多少数据段的内存中副本。\n",
    "\n",
    "- Milvus Standalone：replica_number允许的最大值为1。\n",
    "- Milvus集群：最大值不应超过Milvus配置中设置的queryNode.replicas。有关其他详细信息，请参阅与查询节点相关的配置文件。"
   ]
  },
  {
   "cell_type": "code",
   "execution_count": null,
   "id": "995c61dd",
   "metadata": {},
   "outputs": [],
   "source": [
    "# 7. Load the collection\n",
    "client.load_collection(\n",
    "    collection_name=\"customized_setup_2\",\n",
    "    replica_number=1 # Number of replicas to create on query nodes. Max value is 1 for Milvus Standalone, and no greater than `queryNode.replicas` for Milvus Cluster.\n",
    ")\n",
    "\n",
    "res = client.get_load_state(\n",
    "    collection_name=\"customized_setup_2\"\n",
    ")\n",
    "\n",
    "print(res)"
   ]
  },
  {
   "cell_type": "markdown",
   "id": "f1dbb066",
   "metadata": {},
   "source": [
    "### Release a collection"
   ]
  },
  {
   "cell_type": "code",
   "execution_count": null,
   "id": "51164e36",
   "metadata": {},
   "outputs": [],
   "source": [
    "# 8. Release the collection\n",
    "client.release_collection(\n",
    "    collection_name=\"customized_setup_2\"\n",
    ")\n",
    "\n",
    "res = client.get_load_state(\n",
    "    collection_name=\"customized_setup_2\"\n",
    ")"
   ]
  },
  {
   "cell_type": "code",
   "execution_count": null,
   "id": "453d8808",
   "metadata": {},
   "outputs": [],
   "source": [
    "print(res)"
   ]
  },
  {
   "cell_type": "markdown",
   "id": "432e0a05",
   "metadata": {},
   "source": [
    "## 设置别名"
   ]
  },
  {
   "cell_type": "markdown",
   "id": "7d12edda",
   "metadata": {},
   "source": [
    "\n",
    "您可以为集合分配别名，以使它们在特定上下文中更有意义。可以为一个集合分配多个别名，但多个集合不能共享一个别名。\n"
   ]
  },
  {
   "cell_type": "markdown",
   "id": "20283c15",
   "metadata": {},
   "source": [
    "### 创建别名"
   ]
  },
  {
   "cell_type": "code",
   "execution_count": null,
   "id": "99c6ef64",
   "metadata": {},
   "outputs": [],
   "source": [
    "# 9.1. Create aliases\n",
    "client.create_alias(\n",
    "    collection_name=\"customized_setup_2\",\n",
    "    alias=\"bob\"\n",
    ")\n",
    "\n",
    "client.create_alias(\n",
    "    collection_name=\"customized_setup_2\",\n",
    "    alias=\"alice\"\n",
    ")"
   ]
  },
  {
   "cell_type": "markdown",
   "id": "e4caa01a",
   "metadata": {},
   "source": [
    "### 列出别名"
   ]
  },
  {
   "cell_type": "code",
   "execution_count": null,
   "id": "be5b0899",
   "metadata": {},
   "outputs": [],
   "source": [
    "# 9.2. List aliases\n",
    "res = client.list_aliases(\n",
    "    collection_name=\"customized_setup_2\"\n",
    ")\n",
    "\n",
    "print(res)"
   ]
  },
  {
   "cell_type": "markdown",
   "id": "437b7bdb",
   "metadata": {},
   "source": [
    "### 描述别名"
   ]
  },
  {
   "cell_type": "code",
   "execution_count": null,
   "id": "4abb287a",
   "metadata": {},
   "outputs": [],
   "source": [
    "# 9.3. Describe aliases\n",
    "res = client.describe_alias(\n",
    "    alias=\"bob\"\n",
    ")\n",
    "\n",
    "print(res)"
   ]
  },
  {
   "cell_type": "markdown",
   "id": "84731261",
   "metadata": {},
   "source": [
    "### 重新分配别名\n"
   ]
  },
  {
   "cell_type": "code",
   "execution_count": null,
   "id": "6cbf5600",
   "metadata": {},
   "outputs": [],
   "source": [
    "# 9.4 Reassign aliases to other collections\n",
    "client.alter_alias(\n",
    "    collection_name=\"customized_setup_1\",\n",
    "    alias=\"alice\"\n",
    ")\n",
    "\n",
    "res = client.list_aliases(\n",
    "    collection_name=\"customized_setup_1\"\n",
    ")\n",
    "\n",
    "print(res)"
   ]
  },
  {
   "cell_type": "code",
   "execution_count": null,
   "id": "8640008c",
   "metadata": {},
   "outputs": [],
   "source": [
    "res = client.list_aliases(\n",
    "    collection_name=\"customized_setup_2\"\n",
    ")\n",
    "\n",
    "print(res)"
   ]
  },
  {
   "cell_type": "markdown",
   "id": "501281b7",
   "metadata": {},
   "source": [
    "### 删除别名"
   ]
  },
  {
   "cell_type": "code",
   "execution_count": null,
   "id": "ccf22cff",
   "metadata": {},
   "outputs": [],
   "source": [
    "# 9.5 Drop aliases\n",
    "client.drop_alias(\n",
    "    alias=\"bob\"\n",
    ")\n",
    "\n",
    "client.drop_alias(\n",
    "    alias=\"alice\"\n",
    ")"
   ]
  },
  {
   "cell_type": "markdown",
   "id": "e6482be4",
   "metadata": {},
   "source": [
    "## Drop a Collection"
   ]
  },
  {
   "cell_type": "code",
   "execution_count": null,
   "id": "46bce9d5",
   "metadata": {},
   "outputs": [],
   "source": [
    "# 10. Drop the collections\n",
    "client.drop_collection(\n",
    "    collection_name=\"quick_setup\"\n",
    ")\n",
    "\n",
    "client.drop_collection(\n",
    "    collection_name=\"customized_setup_1\"\n",
    ")\n",
    "\n",
    "client.drop_collection(\n",
    "    collection_name=\"customized_setup_2\"\n",
    ")"
   ]
  },
  {
   "cell_type": "markdown",
   "id": "5d404b8c",
   "metadata": {},
   "source": [
    "-------"
   ]
  }
 ],
 "metadata": {
  "kernelspec": {
   "display_name": "Python 3 (ipykernel)",
   "language": "python",
   "name": "python3"
  },
  "language_info": {
   "codemirror_mode": {
    "name": "ipython",
    "version": 3
   },
   "file_extension": ".py",
   "mimetype": "text/x-python",
   "name": "python",
   "nbconvert_exporter": "python",
   "pygments_lexer": "ipython3",
   "version": "3.10.11"
  },
  "nbTranslate": {
   "displayLangs": [
    "*"
   ],
   "hotkey": "alt-t",
   "langInMainMenu": true,
   "sourceLang": "en",
   "targetLang": "fr",
   "useGoogleTranslate": true
  },
  "toc": {
   "base_numbering": 1,
   "nav_menu": {},
   "number_sections": true,
   "sideBar": true,
   "skip_h1_title": false,
   "title_cell": "Table of Contents",
   "title_sidebar": "Contents",
   "toc_cell": false,
   "toc_position": {},
   "toc_section_display": true,
   "toc_window_display": false
  }
 },
 "nbformat": 4,
 "nbformat_minor": 5
}
