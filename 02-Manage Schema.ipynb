{
 "cells": [
  {
   "cell_type": "markdown",
   "id": "b4e040d0",
   "metadata": {},
   "source": [
    "# 管理数据结构"
   ]
  },
  {
   "cell_type": "markdown",
   "id": "819e4a55",
   "metadata": {},
   "source": [
    "> 本主题介绍了Milvus中的模式。架构用于定义集合的属性和其中的字段。"
   ]
  },
  {
   "cell_type": "markdown",
   "id": "bca0c14c",
   "metadata": {},
   "source": [
    "## 字段模式"
   ]
  },
  {
   "cell_type": "markdown",
   "id": "ea7b99fd",
   "metadata": {},
   "source": [
    "字段模式是字段的逻辑定义。这是在定义集合模式和管理集合之前需要定义的第一件事。\n",
    "\n",
    "Milvus在一个集合中只支持一个主键字段。"
   ]
  },
  {
   "cell_type": "markdown",
   "id": "63dc6aeb",
   "metadata": {},
   "source": [
    "### 字段架构属性"
   ]
  },
  {
   "cell_type": "markdown",
   "id": "23cfd710",
   "metadata": {},
   "source": [
    "### 字段架构属性\n",
    "\n",
    "| 性能                            | 描述                                 | 注意                                                         |\n",
    "| :------------------------------ | :----------------------------------- | :----------------------------------------------------------- |\n",
    "| `name`                          | 要创建的集合中的字段的名称           | 数据类型：String。 强制性                                    |\n",
    "| `dtype`                         | 字段的数据类型                       | 强制性                                                       |\n",
    "| `description`                   | 外地说明                             | 数据类型：String。 任择                                      |\n",
    "| `is_primary`                    | 是否将字段设置为主键字段             | 数据类型：布尔（`true`或`false`）。 主键字段为必填项         |\n",
    "| `auto_id`（主键字段必须）       | 切换以启用或禁用自动ID（主键）分配。 | `True`或`False`                                              |\n",
    "| `max_length`（VARCHAR字段必须） | 允许插入的字符串的最大长度。         | 【1，65，535】                                               |\n",
    "| `dim`                           | 向量的维数                           | 数据类型：∈[1，32768]。 对于密集向量场是必需的。对于稀疏向量场省略。 |\n",
    "| `is_partition_key`              | 此字段是否为分区键字段。             | 数据类型：布尔（`true`或`false`）。                          |"
   ]
  },
  {
   "cell_type": "markdown",
   "id": "e123ab3d",
   "metadata": {},
   "source": [
    "## 创建字段架构"
   ]
  },
  {
   "cell_type": "markdown",
   "id": "b49709e8",
   "metadata": {},
   "source": [
    "为了降低数据插入的复杂性，Milvus允许您在字段模式创建期间为每个标量字段指定默认值，不包括主键字段。这表示如果在插入数据时将字段留空，则将应用为此字段指定的默认值。\n",
    "\n",
    "创建常规字段模式："
   ]
  },
  {
   "cell_type": "code",
   "execution_count": 3,
   "id": "16169664",
   "metadata": {},
   "outputs": [],
   "source": [
    "from pymilvus import FieldSchema, DataType"
   ]
  },
  {
   "cell_type": "code",
   "execution_count": 4,
   "id": "00e42c1b",
   "metadata": {},
   "outputs": [],
   "source": [
    "id_field = FieldSchema(name=\"id\", dtype=DataType.INT64, is_primary=True, description=\"primary id\")\n",
    "age_field = FieldSchema(name=\"age\", dtype=DataType.INT64, description=\"age\")\n",
    "embedding_field = FieldSchema(name=\"embedding\", dtype=DataType.FLOAT_VECTOR, dim=128, description=\"vector\")\n",
    "\n",
    "# 下文创建了一个字段，并将其用作分区字段\n",
    "position_field = FieldSchema(name=\"position\", dtype=DataType.VARCHAR, max_length=256, is_partition_key=True)"
   ]
  },
  {
   "cell_type": "markdown",
   "id": "68b8ca14",
   "metadata": {},
   "source": [
    "使用默认字段值创建字段架构"
   ]
  },
  {
   "cell_type": "code",
   "execution_count": 8,
   "id": "9dd7f1d5",
   "metadata": {},
   "outputs": [],
   "source": [
    "from pymilvus import FieldSchema\n",
    "\n",
    "fields = [\n",
    "  FieldSchema(name=\"id\", dtype=DataType.INT64, is_primary=True),\n",
    "  # configure default value `25` for field `age`\n",
    "  FieldSchema(name=\"age\", dtype=DataType.INT64, default_value=25, description=\"age\"),\n",
    "  FieldSchema(name=\"embedding\", dtype=DataType.FLOAT_VECTOR, dim=128, description=\"vector\")\n",
    "]"
   ]
  },
  {
   "cell_type": "markdown",
   "id": "a7a50e13",
   "metadata": {},
   "source": [
    "### 支持的数据类型"
   ]
  },
  {
   "cell_type": "markdown",
   "id": "5866c57c",
   "metadata": {},
   "source": [
    "`DataType`定义字段包含的数据类型。不同的字段支持不同的数据类型。\n",
    "\n",
    "- 主键字段支持：\n",
    "\n",
    "  - INT64：numpy.int64\n",
    "  - VARCHAR：VARCHAR\n",
    "\n",
    "- 标量字段支持：\n",
    "\n",
    "  - BOOL：布尔（`true`或`false`）\n",
    "  - INT8：numpy.int8\n",
    "  - INT16：numpy.int16\n",
    "  - INT32：numpy.int32\n",
    "  - INT64：numpy.int64\n",
    "  - FLOAT：numpy.float32\n",
    "  - Double：numpy. double\n",
    "  - VARCHAR：VARCHAR\n",
    "  - JSON：[JSON](https://milvus.io/docs/use-json-fields.md)\n",
    "  - 数组：数组\n",
    "\n",
    "  JSON是一种复合数据类型。JSON字段包含键-值对。每个键都是一个字符串，值可以是数字、字符串、布尔值、数组或列表。有关详细信息，请参阅[JSON：一种新的数据类型](https://milvus.io/docs/use-json-fields.md)。\n",
    "\n",
    "- 矢量场支持：\n",
    "\n",
    "  - BINARY_VECTOR：将二进制数据存储为0和1的序列，用于图像处理和信息检索中的紧凑特征表示。\n",
    "  - FLOAT_VECTOR：存储32位浮点数，通常用于科学计算和机器学习，用于表示真实的数字。\n",
    "  - FLOAT16_VECTOR：存储16位半精度浮点数，用于深度学习和GPU计算，以提高内存和带宽效率。\n",
    "  - BFLOAT16_VECTOR：存储精度较低的16位浮点数，但与Float32具有相同的指数范围，在深度学习中很受欢迎，可减少内存和计算需求，而不会显著影响精度。\n",
    "  - SPARSE_FLOAT_VECTOR：存储非零元素及其对应索引的列表，用于表示稀疏向量。有关详细信息，请参阅[稀疏向量](https://milvus.io/docs/sparse_vector.md)。\n",
    "\n",
    "  Milvus支持集合中的多个向量场。有关详细信息，请参阅[多向量搜索](https://milvus.io/docs/multi-vector-search.md)。"
   ]
  },
  {
   "cell_type": "markdown",
   "id": "4ec2dcdf",
   "metadata": {},
   "source": [
    "## 集合模式"
   ]
  },
  {
   "cell_type": "markdown",
   "id": "168926fb",
   "metadata": {},
   "source": [
    "集合架构是集合的逻辑定义。通常，您需要在定义集合架构和管理集合之前定义字段架构。"
   ]
  },
  {
   "cell_type": "markdown",
   "id": "5646e9fe",
   "metadata": {},
   "source": [
    "### 集合架构属性"
   ]
  },
  {
   "cell_type": "markdown",
   "id": "a5bc47aa",
   "metadata": {},
   "source": [
    "| 性能  | 描述                         | 注意                                                         |\n",
    "| :---- | :--------------------------- | :----------------------------------------------------------- |\n",
    "| `field` | 集合中要创建的字段           | 强制性                                                       |\n",
    "| `description` | 收藏品的描述                 | 数据类型：String。 任择                                      |\n",
    "| `partition_key_field` | 设计用作分区键的字段的名称。 | 数据类型：String。 任择                                      |\n",
    "| `enable_dynamic_field` | 是否启用动态架构             | 数据类型：布尔（`true`或`false`）。 可选，默认为`False`。 有关动态架构的详细信息，请参阅动态架构和管理集合的用户指南。 |"
   ]
  },
  {
   "cell_type": "markdown",
   "id": "4fe3eaea",
   "metadata": {},
   "source": [
    "### 创建集合架构"
   ]
  },
  {
   "cell_type": "code",
   "execution_count": 9,
   "id": "77d2edc8",
   "metadata": {},
   "outputs": [],
   "source": [
    "from pymilvus import FieldSchema, CollectionSchema\n",
    "id_field = FieldSchema(name=\"id\", dtype=DataType.INT64, is_primary=True, description=\"primary id\")\n",
    "age_field = FieldSchema(name=\"age\", dtype=DataType.INT64, description=\"age\")\n",
    "embedding_field = FieldSchema(name=\"embedding\", dtype=DataType.FLOAT_VECTOR, dim=128, description=\"vector\")\n",
    "\n",
    "# Enable partition key on a field if you need to implement multi-tenancy based on the partition-key field\n",
    "position_field = FieldSchema(name=\"position\", dtype=DataType.VARCHAR, max_length=256, is_partition_key=True)\n",
    "\n",
    "# Set enable_dynamic_field to True if you need to use dynamic fields. \n",
    "schema = CollectionSchema(\n",
    "    fields=[id_field, age_field, embedding_field], \n",
    "    auto_id=False, \n",
    "    enable_dynamic_field=True, \n",
    "    description=\"desc of a collection\"\n",
    ")"
   ]
  },
  {
   "cell_type": "markdown",
   "id": "ea406a39",
   "metadata": {},
   "source": [
    "使用指定的架构创建集合："
   ]
  },
  {
   "cell_type": "code",
   "execution_count": 11,
   "id": "79766ca8",
   "metadata": {},
   "outputs": [],
   "source": [
    "from pymilvus import connections, db\n",
    "\n",
    "conn = connections.connect(host=\"127.0.0.1\", port=19530)"
   ]
  },
  {
   "cell_type": "code",
   "execution_count": 12,
   "id": "579972e9",
   "metadata": {},
   "outputs": [],
   "source": [
    "from pymilvus import Collection\n",
    "\n",
    "\n",
    "collection_name1 = \"tutorial_1\"\n",
    "collection1 = Collection(name=collection_name1, schema=schema, using='default', shards_num=2)"
   ]
  },
  {
   "cell_type": "markdown",
   "id": "f925533c",
   "metadata": {},
   "source": [
    "* 您可以使用shards_num定义分片号。\n",
    "* 您可以通过在using中指定别名来定义要在其上创建集合的Milvus服务器。\n",
    "* 如果您需要实现基于分区键的多租户，可以通过在字段上设置is_partition_key到True来启用字段上的分区键功能。\n",
    "* 如果需要启用动态字段，可以通过在集合模式中设置enable_dynamic_field到True来启用动态模式。"
   ]
  },
  {
   "cell_type": "markdown",
   "id": "3df81c12",
   "metadata": {},
   "source": [
    "您还可以使用 `Collection.construct_from_dataframe`，它自动从DataFrame生成集合架构并创建集合。"
   ]
  },
  {
   "cell_type": "code",
   "execution_count": 16,
   "id": "67d501ed",
   "metadata": {},
   "outputs": [
    {
     "data": {
      "text/plain": [
       "(10, 4)"
      ]
     },
     "execution_count": 16,
     "metadata": {},
     "output_type": "execute_result"
    }
   ],
   "source": [
    "import random\n",
    "import pandas as pd\n",
    "\n",
    "nb = 10\n",
    "dim = 1024\n",
    "\n",
    "df = pd.DataFrame({\n",
    "    \"id\": [i for i in range(nb)],\n",
    "    \"age\": [random.randint(20, 40) for i in range(nb)],\n",
    "    \"embedding\": [[random.random() for _ in range(dim)] for _ in range(nb)],\n",
    "    \"position\": \"test_pos\"\n",
    "})\n",
    "\n",
    "df.shape"
   ]
  },
  {
   "cell_type": "code",
   "execution_count": 17,
   "id": "89788c97",
   "metadata": {},
   "outputs": [],
   "source": [
    "collection, ins_res = Collection.construct_from_dataframe(\n",
    "    'my_collection',\n",
    "    df,\n",
    "    primary_field='id',\n",
    "    auto_id=False\n",
    "    )"
   ]
  },
  {
   "cell_type": "code",
   "execution_count": 18,
   "id": "2e617c06",
   "metadata": {},
   "outputs": [
    {
     "data": {
      "text/plain": [
       "<Collection>:\n",
       "-------------\n",
       "<name>: my_collection\n",
       "<description>: \n",
       "<schema>: {'auto_id': False, 'description': '', 'fields': [{'name': 'id', 'description': '', 'type': <DataType.INT64: 5>, 'is_primary': True, 'auto_id': False}, {'name': 'age', 'description': '', 'type': <DataType.INT64: 5>}, {'name': 'embedding', 'description': '', 'type': <DataType.FLOAT_VECTOR: 101>, 'params': {'dim': 1024}}, {'name': 'position', 'description': '', 'type': <DataType.VARCHAR: 21>, 'params': {'max_length': 65535}}], 'enable_dynamic_field': False}"
      ]
     },
     "execution_count": 18,
     "metadata": {},
     "output_type": "execute_result"
    }
   ],
   "source": [
    "collection"
   ]
  },
  {
   "cell_type": "code",
   "execution_count": 19,
   "id": "e513e1b2",
   "metadata": {},
   "outputs": [
    {
     "data": {
      "text/plain": [
       "(insert count: 10, delete count: 0, upsert count: 0, timestamp: 449793736878063627, success count: 10, err count: 0)"
      ]
     },
     "execution_count": 19,
     "metadata": {},
     "output_type": "execute_result"
    }
   ],
   "source": [
    "ins_res"
   ]
  },
  {
   "cell_type": "markdown",
   "id": "f88b1168",
   "metadata": {},
   "source": [
    "------"
   ]
  }
 ],
 "metadata": {
  "kernelspec": {
   "display_name": "Python 3 (ipykernel)",
   "language": "python",
   "name": "python3"
  },
  "language_info": {
   "codemirror_mode": {
    "name": "ipython",
    "version": 3
   },
   "file_extension": ".py",
   "mimetype": "text/x-python",
   "name": "python",
   "nbconvert_exporter": "python",
   "pygments_lexer": "ipython3",
   "version": "3.10.11"
  },
  "nbTranslate": {
   "displayLangs": [
    "*"
   ],
   "hotkey": "alt-t",
   "langInMainMenu": true,
   "sourceLang": "en",
   "targetLang": "fr",
   "useGoogleTranslate": true
  },
  "toc": {
   "base_numbering": 1,
   "nav_menu": {},
   "number_sections": true,
   "sideBar": true,
   "skip_h1_title": false,
   "title_cell": "Table of Contents",
   "title_sidebar": "Contents",
   "toc_cell": false,
   "toc_position": {},
   "toc_section_display": true,
   "toc_window_display": false
  }
 },
 "nbformat": 4,
 "nbformat_minor": 5
}
