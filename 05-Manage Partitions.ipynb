{
 "cells": [
  {
   "cell_type": "markdown",
   "id": "aa49c406",
   "metadata": {},
   "source": [
    "# 管理分区\n",
    "\n",
    "本指南指导您如何创建和管理集合中的分区。"
   ]
  },
  {
   "cell_type": "markdown",
   "id": "395f48fd",
   "metadata": {},
   "source": [
    "## 概述\n",
    "\n",
    "Milvus中的分区表示集合的细分。此功能允许将集合的物理存储划分为多个部分，通过将焦点缩小到较小的数据子集而不是整个集合来提高查询性能。\n",
    "\n",
    "在创建集合时，至少会自动创建一个名为_default的默认分区。在一个集合中最多可以创建4，096个分区。\n",
    "\n",
    "**注意到**\n",
    "\n",
    "Milvus引入了一个名为Partition Key的功能，利用底层分区来存储基于特定字段的散列值的实体。此功能有助于实现多租户，提高搜索性能。有关详细信息，请参阅[使用分区键](https://milvus.io/docs/use-partition-key.md)。\n",
    "\n",
    "如果集合中的分区键功能是打开的，Milvus会负责管理所有分区，从而减轻您的责任。\n",
    "\n",
    "此页面上的代码片段使用新[的MilvusClient](https://milvus.io/api-reference/pymilvus/v2.4.x/About.md)（Python）与Milvus交互。其他语言的新MilvusClient SDK将在未来的更新中发布。\n",
    "\n",
    "## 筹备工作\n",
    "\n",
    "下面的代码片段重新使用了现有的代码，以建立到Milvus的连接，并在快速设置模式下创建一个集合，指示该集合在创建时加载。\n"
   ]
  },
  {
   "cell_type": "code",
   "execution_count": 1,
   "id": "eb0290a2",
   "metadata": {},
   "outputs": [],
   "source": [
    "from pymilvus import MilvusClient, DataType\n",
    "\n",
    "# 1. Set up a Milvus client\n",
    "client = MilvusClient(\n",
    "    uri=\"http://localhost:19530\"\n",
    ")\n",
    "\n",
    "# 2. Create a collection\n",
    "client.create_collection(\n",
    "    collection_name=\"quick_setup\",\n",
    "    dimension=5,\n",
    ")"
   ]
  },
  {
   "cell_type": "markdown",
   "id": "63ac10f1",
   "metadata": {},
   "source": [
    "**注意到**\n",
    "\n",
    "在上面的代码片段中，集合的索引已经与集合一起沿着创建，这表明集合是在创建时加载的。"
   ]
  },
  {
   "cell_type": "markdown",
   "id": "01d36bc5",
   "metadata": {},
   "source": [
    "## 列出分区"
   ]
  },
  {
   "cell_type": "markdown",
   "id": "379ce54c",
   "metadata": {},
   "source": [
    "一旦集合准备就绪，您就可以列出它的分区。\n"
   ]
  },
  {
   "cell_type": "code",
   "execution_count": 2,
   "id": "360e609b",
   "metadata": {},
   "outputs": [
    {
     "name": "stdout",
     "output_type": "stream",
     "text": [
      "['_default']\n"
     ]
    }
   ],
   "source": [
    "# 3. List partitions\n",
    "res = client.list_partitions(collection_name=\"quick_setup\")\n",
    "print(res)"
   ]
  },
  {
   "cell_type": "markdown",
   "id": "bd6d55cc",
   "metadata": {},
   "source": [
    "上面代码片段的输出包括指定集合中分区的名称。\n",
    "\n",
    "**注意到**\n",
    "\n",
    "如果您将一个字段设置为集合中的分区键，Milvus将与该集合一起创建至少64个分区沿着。列出分区时，结果可能与上述代码片段的输出不同。\n",
    "\n",
    "有关详细信息，请参阅[使用分区密钥](https://milvus.io/docs/use-partition-key.md)。"
   ]
  },
  {
   "cell_type": "markdown",
   "id": "af498d10",
   "metadata": {},
   "source": [
    "## 创建分区\n"
   ]
  },
  {
   "cell_type": "markdown",
   "id": "f8d4defd",
   "metadata": {},
   "source": [
    "您可以向集合中添加更多分区。一个集合最多可以有64个分区。"
   ]
  },
  {
   "cell_type": "code",
   "execution_count": 3,
   "id": "d566f6ba",
   "metadata": {},
   "outputs": [
    {
     "name": "stdout",
     "output_type": "stream",
     "text": [
      "['_default', 'partitionA', 'partitionB']\n"
     ]
    }
   ],
   "source": [
    "# 4. Create more partitions\n",
    "client.create_partition(\n",
    "    collection_name=\"quick_setup\",\n",
    "    partition_name=\"partitionA\"\n",
    ")\n",
    "\n",
    "client.create_partition(\n",
    "    collection_name=\"quick_setup\",\n",
    "    partition_name=\"partitionB\"\n",
    ")\n",
    "\n",
    "res = client.list_partitions(collection_name=\"quick_setup\")\n",
    "print(res)"
   ]
  },
  {
   "cell_type": "markdown",
   "id": "411009cf",
   "metadata": {},
   "source": [
    "上面的代码片段在集合中创建了一个分区，并列出了集合的分区。\n",
    "\n",
    "**注意到**\n",
    "\n",
    "如果您将字段设置为集合中的分区键，Milvus将负责管理集合中的分区。因此，在尝试创建分区时可能会遇到提示错误。\n",
    "\n",
    "有关详细信息，请参阅[使用分区密钥](https://milvus.io/docs/use-partition-key.md)。\n"
   ]
  },
  {
   "cell_type": "markdown",
   "id": "c03943ce",
   "metadata": {},
   "source": [
    "## 检查特定分区"
   ]
  },
  {
   "cell_type": "markdown",
   "id": "932606be",
   "metadata": {},
   "source": [
    "您还可以检查特定分区的存在。"
   ]
  },
  {
   "cell_type": "code",
   "execution_count": 4,
   "id": "1952c03a",
   "metadata": {},
   "outputs": [
    {
     "name": "stdout",
     "output_type": "stream",
     "text": [
      "True\n"
     ]
    }
   ],
   "source": [
    "# 5. Check whether a partition exists\n",
    "res = client.has_partition(\n",
    "    collection_name=\"quick_setup\",\n",
    "    partition_name=\"partitionA\"\n",
    ")\n",
    "print(res)"
   ]
  },
  {
   "cell_type": "code",
   "execution_count": 5,
   "id": "86c6243d",
   "metadata": {},
   "outputs": [
    {
     "name": "stdout",
     "output_type": "stream",
     "text": [
      "False\n"
     ]
    }
   ],
   "source": [
    "res = client.has_partition(\n",
    "    collection_name=\"quick_setup\",\n",
    "    partition_name=\"partitionC\"\n",
    ")\n",
    "print(res)"
   ]
  },
  {
   "cell_type": "markdown",
   "id": "eaa8a8cf",
   "metadata": {},
   "source": [
    "上面的代码片段检查集合是否有一个名为`partitionA`和`partitionC`的分区。\n"
   ]
  },
  {
   "cell_type": "markdown",
   "id": "ec0b424a",
   "metadata": {},
   "source": [
    "## 加载和释放分区"
   ]
  },
  {
   "cell_type": "markdown",
   "id": "717d7d4c",
   "metadata": {},
   "source": [
    "\n",
    "\n",
    "您可以加载和释放特定的分区，以使它们可用于或不可用于搜索和查询。"
   ]
  },
  {
   "cell_type": "markdown",
   "id": "deb3a99e",
   "metadata": {},
   "source": [
    "### 获取加载状态"
   ]
  },
  {
   "cell_type": "markdown",
   "id": "ba67afe9",
   "metadata": {},
   "source": [
    "\n",
    "\n",
    "要检查集合及其分区的加载状态，请执行以下操作："
   ]
  },
  {
   "cell_type": "code",
   "execution_count": 6,
   "id": "932df741",
   "metadata": {},
   "outputs": [
    {
     "name": "stdout",
     "output_type": "stream",
     "text": [
      "{'state': <LoadState: NotLoad>}\n"
     ]
    }
   ],
   "source": [
    "# Release the collection\n",
    "client.release_collection(collection_name=\"quick_setup\")\n",
    "\n",
    "# Check the load status\n",
    "res = client.get_load_state(collection_name=\"quick_setup\")\n",
    "print(res)"
   ]
  },
  {
   "cell_type": "code",
   "execution_count": 7,
   "id": "72b70cc7",
   "metadata": {},
   "outputs": [
    {
     "name": "stdout",
     "output_type": "stream",
     "text": [
      "{'state': <LoadState: NotLoad>}\n"
     ]
    }
   ],
   "source": [
    "res = client.get_load_state(\n",
    "    collection_name=\"quick_setup\", \n",
    "    partition_name=\"partitionA\"\n",
    ")\n",
    "print(res)"
   ]
  },
  {
   "cell_type": "code",
   "execution_count": 8,
   "id": "72bbb5bd",
   "metadata": {},
   "outputs": [
    {
     "name": "stdout",
     "output_type": "stream",
     "text": [
      "{'state': <LoadState: NotLoad>}\n"
     ]
    }
   ],
   "source": [
    "res = client.get_load_state(\n",
    "    collection_name=\"quick_setup\", \n",
    "    partition_name=\"partitionB\"\n",
    ")\n",
    "\n",
    "print(res)"
   ]
  },
  {
   "cell_type": "markdown",
   "id": "2db0bb00",
   "metadata": {},
   "source": [
    "可能的加载状态可能是以下任一状态\n",
    "\n",
    "- **Loaded 加载**\n",
    "\n",
    "  如果集合中至少有一个分区已被加载，则该集合被标记为`Loaded`。\n",
    "\n",
    "- **NotLoad NotLoad**\n",
    "\n",
    "  如果一个集合的分区都没有被加载，则该集合被标记为`NotLoad`。\n",
    "\n",
    "- **Loading 加载中**"
   ]
  },
  {
   "cell_type": "markdown",
   "id": "a4f1d098",
   "metadata": {},
   "source": [
    "### 加载分区"
   ]
  },
  {
   "cell_type": "markdown",
   "id": "fbe6a184",
   "metadata": {},
   "source": [
    "要加载集合的所有分区，您只需调用`load_collection()`。要加载集合的特定分区，请执行以下操作：\n"
   ]
  },
  {
   "cell_type": "code",
   "execution_count": 9,
   "id": "1fc8f96e",
   "metadata": {},
   "outputs": [
    {
     "name": "stdout",
     "output_type": "stream",
     "text": [
      "{'state': <LoadState: Loaded>}\n"
     ]
    }
   ],
   "source": [
    "client.load_partitions(\n",
    "    collection_name=\"quick_setup\",\n",
    "    partition_names=[\"partitionA\"]\n",
    ")\n",
    "\n",
    "res = client.get_load_state(collection_name=\"quick_setup\")\n",
    "print(res)"
   ]
  },
  {
   "cell_type": "markdown",
   "id": "54b817c3",
   "metadata": {},
   "source": [
    "要一次加载多个分区，请执行以下操作："
   ]
  },
  {
   "cell_type": "code",
   "execution_count": 13,
   "id": "a9230717",
   "metadata": {},
   "outputs": [
    {
     "data": {
      "text/plain": [
       "{'state': <LoadState: Loaded>}"
      ]
     },
     "execution_count": 13,
     "metadata": {},
     "output_type": "execute_result"
    }
   ],
   "source": [
    "client.load_partitions(\n",
    "    collection_name=\"quick_setup\",\n",
    "    partition_names=[\"partitionA\", \"partitionB\"]\n",
    ")\n",
    "\n",
    "res = client.get_load_state(\n",
    "    collection_name=\"quick_setup\",\n",
    "    partition_name=\"partitionA\"\n",
    ")\n",
    "res"
   ]
  },
  {
   "cell_type": "code",
   "execution_count": 14,
   "id": "35bb53c2",
   "metadata": {},
   "outputs": [
    {
     "data": {
      "text/plain": [
       "{'state': <LoadState: Loaded>}"
      ]
     },
     "execution_count": 14,
     "metadata": {},
     "output_type": "execute_result"
    }
   ],
   "source": [
    "res = client.get_load_state(\n",
    "    collection_name=\"quick_setup\",\n",
    "    partition_name=\"partitionB\"\n",
    ")\n",
    "res"
   ]
  },
  {
   "cell_type": "markdown",
   "id": "7e2e852f",
   "metadata": {},
   "source": [
    "### 释放分区"
   ]
  },
  {
   "cell_type": "markdown",
   "id": "798e5ac2",
   "metadata": {},
   "source": [
    "要释放集合的所有分区，您只需调用`release_collection`。要释放集合的特定分区，请执行以下操作：\n"
   ]
  },
  {
   "cell_type": "code",
   "execution_count": 15,
   "id": "81d97cb1",
   "metadata": {},
   "outputs": [
    {
     "name": "stdout",
     "output_type": "stream",
     "text": [
      "{'state': <LoadState: NotLoad>}\n"
     ]
    }
   ],
   "source": [
    "# 7. Release a partition\n",
    "client.release_partitions(\n",
    "    collection_name=\"quick_setup\",\n",
    "    partition_names=[\"partitionA\"]\n",
    ")\n",
    "\n",
    "res = client.get_load_state(\n",
    "    collection_name=\"quick_setup\", \n",
    "    partition_name=\"partitionA\"\n",
    ")\n",
    "\n",
    "print(res)\n"
   ]
  },
  {
   "cell_type": "markdown",
   "id": "a3a62a2b",
   "metadata": {},
   "source": [
    "要一次释放多个分区，请执行以下操作："
   ]
  },
  {
   "cell_type": "code",
   "execution_count": 17,
   "id": "0e860611",
   "metadata": {},
   "outputs": [
    {
     "data": {
      "text/plain": [
       "{'state': <LoadState: NotLoad>}"
      ]
     },
     "execution_count": 17,
     "metadata": {},
     "output_type": "execute_result"
    }
   ],
   "source": [
    "client.release_partitions(\n",
    "    collection_name=\"quick_setup\",\n",
    "    partition_names=[\"_default\", \"partitionA\", \"partitionB\"]\n",
    ")\n",
    "\n",
    "res = client.get_load_state(\n",
    "    collection_name=\"quick_setup\",\n",
    ")\n",
    "\n",
    "res"
   ]
  },
  {
   "cell_type": "markdown",
   "id": "99b81b60",
   "metadata": {},
   "source": [
    "## 删除分区\n"
   ]
  },
  {
   "cell_type": "markdown",
   "id": "254f3576",
   "metadata": {},
   "source": [
    "释放分区后，如果不再需要它，可以将其删除。"
   ]
  },
  {
   "cell_type": "code",
   "execution_count": 18,
   "id": "42953000",
   "metadata": {},
   "outputs": [
    {
     "name": "stdout",
     "output_type": "stream",
     "text": [
      "['_default', 'partitionA']\n"
     ]
    }
   ],
   "source": [
    "# 8. Drop a partition\n",
    "client.drop_partition(\n",
    "    collection_name=\"quick_setup\",\n",
    "    partition_name=\"partitionB\"\n",
    ")\n",
    "\n",
    "res = client.list_partitions(collection_name=\"quick_setup\")\n",
    "print(res)\n"
   ]
  },
  {
   "cell_type": "markdown",
   "id": "33b5f16e",
   "metadata": {},
   "source": [
    "**注意到**\n",
    "\n",
    "在删除分区之前，您需要将其从内存中释放。"
   ]
  },
  {
   "cell_type": "markdown",
   "id": "f187a9c5",
   "metadata": {},
   "source": [
    "## FAQ\n",
    "\n",
    "- **一个分区可以存储多少数据？**\n",
    "\n",
    "  建议在分区中存储少于1B的数据。\n",
    "\n",
    "- **可以创建的分区的最大数量是多少？**\n",
    "\n",
    "  默认情况下，Milvus最多允许创建4，096个分区。您可以通过配置`rootCoord.maxPartitionNum`来调整最大分区数。有关详细信息，请参阅[系统手册](https://milvus.io/docs/configure_rootcoord.md#rootCoordmaxPartitionNum)。\n",
    "\n",
    "- **如何区分分区和分区键？**\n",
    "\n",
    "  分区是物理存储单元，而分区键是逻辑概念，它根据指定的列自动将数据分配给特定的分区。\n",
    "\n",
    "  例如，在Milvus中，如果您有一个集合，其分区键定义为`color`字段，则系统会根据每个实体的`color`字段的散列值自动将数据分配给分区。这个自动化的过程减轻了用户在插入或搜索数据时手动指定分区的责任。\n",
    "\n",
    "  另一方面，在手动创建分区时，您需要根据分区键的标准将数据分配给每个分区。如果您有一个包含`color`字段的集合，则可以手动将实体的`color`值从`red`分配到`partition A`，将实体的`color`值从`blue`分配到`partition B`。这种手动管理需要更多的努力。\n",
    "\n",
    "  总之，分区和分区键都被用来优化数据计算和提高查询效率。必须认识到，启用分区键意味着放弃对分区数据插入和加载的手动管理的控制，因为这些过程是完全自动化的，由Milvus处理。"
   ]
  },
  {
   "cell_type": "markdown",
   "id": "47940bc9",
   "metadata": {},
   "source": [
    "------"
   ]
  }
 ],
 "metadata": {
  "kernelspec": {
   "display_name": "Python 3 (ipykernel)",
   "language": "python",
   "name": "python3"
  },
  "language_info": {
   "codemirror_mode": {
    "name": "ipython",
    "version": 3
   },
   "file_extension": ".py",
   "mimetype": "text/x-python",
   "name": "python",
   "nbconvert_exporter": "python",
   "pygments_lexer": "ipython3",
   "version": "3.10.11"
  },
  "nbTranslate": {
   "displayLangs": [
    "*"
   ],
   "hotkey": "alt-t",
   "langInMainMenu": true,
   "sourceLang": "en",
   "targetLang": "fr",
   "useGoogleTranslate": true
  },
  "toc": {
   "base_numbering": 1,
   "nav_menu": {},
   "number_sections": true,
   "sideBar": true,
   "skip_h1_title": false,
   "title_cell": "Table of Contents",
   "title_sidebar": "Contents",
   "toc_cell": false,
   "toc_position": {},
   "toc_section_display": true,
   "toc_window_display": false
  }
 },
 "nbformat": 4,
 "nbformat_minor": 5
}
